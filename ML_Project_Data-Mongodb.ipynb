{
 "cells": [
  {
   "cell_type": "code",
   "execution_count": 1,
   "id": "5e9f8b76",
   "metadata": {},
   "outputs": [],
   "source": [
    "# pip install yfinance"
   ]
  },
  {
   "cell_type": "code",
   "execution_count": 2,
   "id": "1c77fb47",
   "metadata": {},
   "outputs": [
    {
     "name": "stderr",
     "output_type": "stream",
     "text": [
      "C:\\Users\\jemnj\\.conda\\envs\\mlenv\\lib\\site-packages\\_distutils_hack\\__init__.py:30: UserWarning: Setuptools is replacing distutils.\n",
      "  warnings.warn(\"Setuptools is replacing distutils.\")\n"
     ]
    }
   ],
   "source": [
    "#Import Dependencies\n",
    "import pip as np\n",
    "import pandas as pd\n",
    "import yfinance as yf\n",
    "import plotly .graph_objs as go\n",
    "from datetime import datetime as dt\n",
    "\n",
    "from pathlib import Path\n",
    "import numpy as np\n",
    "import matplotlib.pyplot as plt\n",
    "\n",
    "from sklearn import tree\n",
    "from sklearn.preprocessing import StandardScaler\n",
    "from sklearn.ensemble import RandomForestClassifier\n",
    "from sklearn.model_selection import train_test_split\n",
    "from sklearn.metrics import confusion_matrix, accuracy_score, classification_report\n",
    "from imblearn.ensemble import EasyEnsembleClassifier\n",
    "from sklearn import preprocessing\n",
    "from sklearn import utils\n",
    "from sklearn.ensemble import RandomForestRegressor\n",
    "from sklearn.datasets import make_regression\n"
   ]
  },
  {
   "cell_type": "markdown",
   "id": "8ffa2df6",
   "metadata": {},
   "source": [
    "# Data Source:  yfinance API to extract the latest stock price data"
   ]
  },
  {
   "cell_type": "markdown",
   "id": "be98d9da",
   "metadata": {},
   "source": [
    "### Dogecoin USD (DOGE-USD)"
   ]
  },
  {
   "cell_type": "code",
   "execution_count": 3,
   "id": "116a8613",
   "metadata": {},
   "outputs": [
    {
     "data": {
      "text/html": [
       "<div>\n",
       "<style scoped>\n",
       "    .dataframe tbody tr th:only-of-type {\n",
       "        vertical-align: middle;\n",
       "    }\n",
       "\n",
       "    .dataframe tbody tr th {\n",
       "        vertical-align: top;\n",
       "    }\n",
       "\n",
       "    .dataframe thead th {\n",
       "        text-align: right;\n",
       "    }\n",
       "</style>\n",
       "<table border=\"1\" class=\"dataframe\">\n",
       "  <thead>\n",
       "    <tr style=\"text-align: right;\">\n",
       "      <th></th>\n",
       "      <th>Open</th>\n",
       "      <th>High</th>\n",
       "      <th>Low</th>\n",
       "      <th>Close</th>\n",
       "      <th>Volume</th>\n",
       "      <th>Dividends</th>\n",
       "      <th>Stock Splits</th>\n",
       "    </tr>\n",
       "    <tr>\n",
       "      <th>Date</th>\n",
       "      <th></th>\n",
       "      <th></th>\n",
       "      <th></th>\n",
       "      <th></th>\n",
       "      <th></th>\n",
       "      <th></th>\n",
       "      <th></th>\n",
       "    </tr>\n",
       "  </thead>\n",
       "  <tbody>\n",
       "    <tr>\n",
       "      <th>2017-11-09</th>\n",
       "      <td>0.001207</td>\n",
       "      <td>0.001415</td>\n",
       "      <td>0.001181</td>\n",
       "      <td>0.001415</td>\n",
       "      <td>6259550</td>\n",
       "      <td>0</td>\n",
       "      <td>0</td>\n",
       "    </tr>\n",
       "    <tr>\n",
       "      <th>2017-11-10</th>\n",
       "      <td>0.001421</td>\n",
       "      <td>0.001431</td>\n",
       "      <td>0.001125</td>\n",
       "      <td>0.001163</td>\n",
       "      <td>4246520</td>\n",
       "      <td>0</td>\n",
       "      <td>0</td>\n",
       "    </tr>\n",
       "    <tr>\n",
       "      <th>2017-11-11</th>\n",
       "      <td>0.001146</td>\n",
       "      <td>0.001257</td>\n",
       "      <td>0.001141</td>\n",
       "      <td>0.001201</td>\n",
       "      <td>2231080</td>\n",
       "      <td>0</td>\n",
       "      <td>0</td>\n",
       "    </tr>\n",
       "    <tr>\n",
       "      <th>2017-11-12</th>\n",
       "      <td>0.001189</td>\n",
       "      <td>0.001210</td>\n",
       "      <td>0.001002</td>\n",
       "      <td>0.001038</td>\n",
       "      <td>3288960</td>\n",
       "      <td>0</td>\n",
       "      <td>0</td>\n",
       "    </tr>\n",
       "    <tr>\n",
       "      <th>2017-11-13</th>\n",
       "      <td>0.001046</td>\n",
       "      <td>0.001212</td>\n",
       "      <td>0.001019</td>\n",
       "      <td>0.001211</td>\n",
       "      <td>2481270</td>\n",
       "      <td>0</td>\n",
       "      <td>0</td>\n",
       "    </tr>\n",
       "  </tbody>\n",
       "</table>\n",
       "</div>"
      ],
      "text/plain": [
       "                Open      High       Low     Close   Volume  Dividends  \\\n",
       "Date                                                                     \n",
       "2017-11-09  0.001207  0.001415  0.001181  0.001415  6259550          0   \n",
       "2017-11-10  0.001421  0.001431  0.001125  0.001163  4246520          0   \n",
       "2017-11-11  0.001146  0.001257  0.001141  0.001201  2231080          0   \n",
       "2017-11-12  0.001189  0.001210  0.001002  0.001038  3288960          0   \n",
       "2017-11-13  0.001046  0.001212  0.001019  0.001211  2481270          0   \n",
       "\n",
       "            Stock Splits  \n",
       "Date                      \n",
       "2017-11-09             0  \n",
       "2017-11-10             0  \n",
       "2017-11-11             0  \n",
       "2017-11-12             0  \n",
       "2017-11-13             0  "
      ]
     },
     "execution_count": 3,
     "metadata": {},
     "output_type": "execute_result"
    }
   ],
   "source": [
    "ticker = yf.Ticker('DOGE-USD')\n",
    "DOGE_USD_df= ticker.history(period=\"5y\")\n",
    "DOGE_USD_df.head()"
   ]
  },
  {
   "cell_type": "code",
   "execution_count": 4,
   "id": "af1eb92b",
   "metadata": {},
   "outputs": [
    {
     "data": {
      "text/plain": [
       "<AxesSubplot:title={'center':'Dogecoin stock price'}, xlabel='Date'>"
      ]
     },
     "execution_count": 4,
     "metadata": {},
     "output_type": "execute_result"
    },
    {
     "data": {
      "image/png": "[encoded data removed]",
      "text/plain": [
       "<Figure size 432x288 with 1 Axes>"
      ]
     },
     "metadata": {
      "needs_background": "light"
     },
     "output_type": "display_data"
    }
   ],
   "source": [
    "# plotting a graph\n",
    "DOGE_USD_df['Close'].plot(title=\"Dogecoin stock price\")"
   ]
  },
  {
   "cell_type": "code",
   "execution_count": 5,
   "id": "ad3c4593",
   "metadata": {},
   "outputs": [],
   "source": [
    "# saving data in csv file\n",
    "DOGE_USD_df.to_csv(\"Resources/DOGE-USD.csv\")"
   ]
  },
  {
   "cell_type": "code",
   "execution_count": 6,
   "id": "0535466e",
   "metadata": {},
   "outputs": [
    {
     "data": {
      "text/html": [
       "<div>\n",
       "<style scoped>\n",
       "    .dataframe tbody tr th:only-of-type {\n",
       "        vertical-align: middle;\n",
       "    }\n",
       "\n",
       "    .dataframe tbody tr th {\n",
       "        vertical-align: top;\n",
       "    }\n",
       "\n",
       "    .dataframe thead th {\n",
       "        text-align: right;\n",
       "    }\n",
       "</style>\n",
       "<table border=\"1\" class=\"dataframe\">\n",
       "  <thead>\n",
       "    <tr style=\"text-align: right;\">\n",
       "      <th></th>\n",
       "      <th>Open</th>\n",
       "      <th>High</th>\n",
       "      <th>Low</th>\n",
       "    </tr>\n",
       "    <tr>\n",
       "      <th>Date</th>\n",
       "      <th></th>\n",
       "      <th></th>\n",
       "      <th></th>\n",
       "    </tr>\n",
       "  </thead>\n",
       "  <tbody>\n",
       "    <tr>\n",
       "      <th>2017-11-09</th>\n",
       "      <td>0.001207</td>\n",
       "      <td>0.001415</td>\n",
       "      <td>0.001181</td>\n",
       "    </tr>\n",
       "    <tr>\n",
       "      <th>2017-11-10</th>\n",
       "      <td>0.001421</td>\n",
       "      <td>0.001431</td>\n",
       "      <td>0.001125</td>\n",
       "    </tr>\n",
       "    <tr>\n",
       "      <th>2017-11-11</th>\n",
       "      <td>0.001146</td>\n",
       "      <td>0.001257</td>\n",
       "      <td>0.001141</td>\n",
       "    </tr>\n",
       "    <tr>\n",
       "      <th>2017-11-12</th>\n",
       "      <td>0.001189</td>\n",
       "      <td>0.001210</td>\n",
       "      <td>0.001002</td>\n",
       "    </tr>\n",
       "    <tr>\n",
       "      <th>2017-11-13</th>\n",
       "      <td>0.001046</td>\n",
       "      <td>0.001212</td>\n",
       "      <td>0.001019</td>\n",
       "    </tr>\n",
       "  </tbody>\n",
       "</table>\n",
       "</div>"
      ],
      "text/plain": [
       "                Open      High       Low\n",
       "Date                                    \n",
       "2017-11-09  0.001207  0.001415  0.001181\n",
       "2017-11-10  0.001421  0.001431  0.001125\n",
       "2017-11-11  0.001146  0.001257  0.001141\n",
       "2017-11-12  0.001189  0.001210  0.001002\n",
       "2017-11-13  0.001046  0.001212  0.001019"
      ]
     },
     "execution_count": 6,
     "metadata": {},
     "output_type": "execute_result"
    }
   ],
   "source": [
    "# Drop Unnecessary columns\n",
    "X = DOGE_USD_df.copy()\n",
    "X = X.drop(columns=[\"Close\",\"Dividends\",\"Stock Splits\",\"Volume\"], axis=1)\n",
    "X = pd.get_dummies(X)\n",
    "X.head()"
   ]
  },
  {
   "cell_type": "code",
   "execution_count": 7,
   "id": "45267910",
   "metadata": {},
   "outputs": [
    {
     "data": {
      "text/plain": [
       "array([0.001415, 0.001163, 0.001201, 0.001038, 0.001211])"
      ]
     },
     "execution_count": 7,
     "metadata": {},
     "output_type": "execute_result"
    }
   ],
   "source": [
    "# Define the target set.\n",
    "y = DOGE_USD_df[\"Close\"].ravel()\n",
    "y[:5]"
   ]
  },
  {
   "cell_type": "code",
   "execution_count": 8,
   "id": "9a7830ba",
   "metadata": {},
   "outputs": [],
   "source": [
    "# Splitting into Train and Test sets.\n",
    "X_train, X_test, y_train, y_test = train_test_split(X, y, random_state=78)"
   ]
  },
  {
   "cell_type": "code",
   "execution_count": 9,
   "id": "6b8d7e2e",
   "metadata": {},
   "outputs": [],
   "source": [
    "# Creating a StandardScaler instance.\n",
    "scaler = StandardScaler()\n",
    "# Fitting the Standard Scaler with the training data.\n",
    "X_scaler = scaler.fit(X_train)\n",
    "\n",
    "# Scaling the data.\n",
    "X_train_scaleddoge = X_scaler.transform(X_train)\n",
    "X_test_scaleddoge = X_scaler.transform(X_test)"
   ]
  },
  {
   "cell_type": "code",
   "execution_count": 10,
   "id": "ee9900d0",
   "metadata": {},
   "outputs": [
    {
     "data": {
      "text/plain": [
       "array([[-0.46320389, -0.42994915, -0.46330113],\n",
       "       [-0.56463805, -0.55644959, -0.57271401],\n",
       "       [-0.55819418, -0.54993141, -0.56550755],\n",
       "       ...,\n",
       "       [ 0.02141829, -0.00250434,  0.04579934],\n",
       "       [ 1.72825352,  1.60298383,  1.76921404],\n",
       "       [-0.55908231, -0.55145109, -0.56751347]])"
      ]
     },
     "execution_count": 10,
     "metadata": {},
     "output_type": "execute_result"
    }
   ],
   "source": [
    "X_test_scaleddoge"
   ]
  },
  {
   "cell_type": "code",
   "execution_count": 11,
   "id": "140cbac8",
   "metadata": {},
   "outputs": [
    {
     "data": {
      "text/html": [
       "<div>\n",
       "<style scoped>\n",
       "    .dataframe tbody tr th:only-of-type {\n",
       "        vertical-align: middle;\n",
       "    }\n",
       "\n",
       "    .dataframe tbody tr th {\n",
       "        vertical-align: top;\n",
       "    }\n",
       "\n",
       "    .dataframe thead th {\n",
       "        text-align: right;\n",
       "    }\n",
       "</style>\n",
       "<table border=\"1\" class=\"dataframe\">\n",
       "  <thead>\n",
       "    <tr style=\"text-align: right;\">\n",
       "      <th></th>\n",
       "      <th>Open</th>\n",
       "      <th>High</th>\n",
       "      <th>Low</th>\n",
       "    </tr>\n",
       "  </thead>\n",
       "  <tbody>\n",
       "    <tr>\n",
       "      <th>count</th>\n",
       "      <td>1759.000000</td>\n",
       "      <td>1759.000000</td>\n",
       "      <td>1759.000000</td>\n",
       "    </tr>\n",
       "    <tr>\n",
       "      <th>mean</th>\n",
       "      <td>0.059573</td>\n",
       "      <td>0.063096</td>\n",
       "      <td>0.056123</td>\n",
       "    </tr>\n",
       "    <tr>\n",
       "      <th>std</th>\n",
       "      <td>0.101354</td>\n",
       "      <td>0.109183</td>\n",
       "      <td>0.093722</td>\n",
       "    </tr>\n",
       "    <tr>\n",
       "      <th>min</th>\n",
       "      <td>0.001046</td>\n",
       "      <td>0.001210</td>\n",
       "      <td>0.001002</td>\n",
       "    </tr>\n",
       "    <tr>\n",
       "      <th>25%</th>\n",
       "      <td>0.002549</td>\n",
       "      <td>0.002616</td>\n",
       "      <td>0.002499</td>\n",
       "    </tr>\n",
       "    <tr>\n",
       "      <th>50%</th>\n",
       "      <td>0.003474</td>\n",
       "      <td>0.003600</td>\n",
       "      <td>0.003354</td>\n",
       "    </tr>\n",
       "    <tr>\n",
       "      <th>75%</th>\n",
       "      <td>0.070648</td>\n",
       "      <td>0.075085</td>\n",
       "      <td>0.068494</td>\n",
       "    </tr>\n",
       "    <tr>\n",
       "      <th>max</th>\n",
       "      <td>0.687801</td>\n",
       "      <td>0.737567</td>\n",
       "      <td>0.608168</td>\n",
       "    </tr>\n",
       "  </tbody>\n",
       "</table>\n",
       "</div>"
      ],
      "text/plain": [
       "              Open         High          Low\n",
       "count  1759.000000  1759.000000  1759.000000\n",
       "mean      0.059573     0.063096     0.056123\n",
       "std       0.101354     0.109183     0.093722\n",
       "min       0.001046     0.001210     0.001002\n",
       "25%       0.002549     0.002616     0.002499\n",
       "50%       0.003474     0.003600     0.003354\n",
       "75%       0.070648     0.075085     0.068494\n",
       "max       0.687801     0.737567     0.608168"
      ]
     },
     "execution_count": 11,
     "metadata": {},
     "output_type": "execute_result"
    }
   ],
   "source": [
    "X.describe()"
   ]
  },
  {
   "cell_type": "code",
   "execution_count": 12,
   "id": "33fa1ec9",
   "metadata": {},
   "outputs": [
    {
     "data": {
      "text/plain": [
       "RandomForestRegressor(max_depth=2, random_state=78)"
      ]
     },
     "execution_count": 12,
     "metadata": {},
     "output_type": "execute_result"
    }
   ],
   "source": [
    "# Fitting the model\n",
    "regrdoge = RandomForestRegressor(max_depth=2, random_state=78)\n",
    "regrdoge.fit(X_train_scaleddoge, y_train)"
   ]
  },
  {
   "cell_type": "code",
   "execution_count": 13,
   "id": "b4caa44c",
   "metadata": {},
   "outputs": [],
   "source": [
    "predictiondoge=regrdoge.predict(X_test_scaleddoge)"
   ]
  },
  {
   "cell_type": "code",
   "execution_count": 14,
   "id": "da85bf71",
   "metadata": {},
   "outputs": [
    {
     "data": {
      "text/plain": [
       "0.9612910417729643"
      ]
     },
     "execution_count": 14,
     "metadata": {},
     "output_type": "execute_result"
    }
   ],
   "source": [
    "regrdoge.score(X_test_scaleddoge,y_test)"
   ]
  },
  {
   "cell_type": "code",
   "execution_count": 15,
   "id": "05cd37e5",
   "metadata": {},
   "outputs": [
    {
     "name": "stderr",
     "output_type": "stream",
     "text": [
      "C:\\Users\\jemnj\\.conda\\envs\\mlenv\\lib\\site-packages\\sklearn\\base.py:442: UserWarning: X does not have valid feature names, but StandardScaler was fitted with feature names\n",
      "  \"X does not have valid feature names, but\"\n"
     ]
    }
   ],
   "source": [
    "value_tocheckdoge=[0.001207,0.001415,0.001181]\n",
    "scaledcheckdoge= X_scaler.transform([value_tocheckdoge])"
   ]
  },
  {
   "cell_type": "code",
   "execution_count": 16,
   "id": "8965cb72",
   "metadata": {},
   "outputs": [
    {
     "name": "stdout",
     "output_type": "stream",
     "text": [
      "[0.00341621]\n"
     ]
    }
   ],
   "source": [
    "print(regrdoge.predict(scaledcheckdoge))"
   ]
  },
  {
   "cell_type": "code",
   "execution_count": 17,
   "id": "0ecb2a64",
   "metadata": {},
   "outputs": [
    {
     "data": {
      "text/plain": [
       "array([0.12407649, 0.46872441, 0.40719911])"
      ]
     },
     "execution_count": 17,
     "metadata": {},
     "output_type": "execute_result"
    }
   ],
   "source": [
    "# Calculate feature importance in the Random Forest model.\n",
    "importancesdoge = regrdoge.feature_importances_\n",
    "importancesdoge"
   ]
  },
  {
   "cell_type": "code",
   "execution_count": 18,
   "id": "e97610fc",
   "metadata": {},
   "outputs": [
    {
     "data": {
      "text/plain": [
       "Index(['Open', 'High', 'Low'], dtype='object')"
      ]
     },
     "execution_count": 18,
     "metadata": {},
     "output_type": "execute_result"
    }
   ],
   "source": [
    "X_test.columns"
   ]
  },
  {
   "cell_type": "markdown",
   "id": "3a0b0bd1",
   "metadata": {},
   "source": [
    "### Bitcoin USD (BTC-USD)"
   ]
  },
  {
   "cell_type": "code",
   "execution_count": 19,
   "id": "c4f9bc3c",
   "metadata": {},
   "outputs": [
    {
     "data": {
      "text/html": [
       "<div>\n",
       "<style scoped>\n",
       "    .dataframe tbody tr th:only-of-type {\n",
       "        vertical-align: middle;\n",
       "    }\n",
       "\n",
       "    .dataframe tbody tr th {\n",
       "        vertical-align: top;\n",
       "    }\n",
       "\n",
       "    .dataframe thead th {\n",
       "        text-align: right;\n",
       "    }\n",
       "</style>\n",
       "<table border=\"1\" class=\"dataframe\">\n",
       "  <thead>\n",
       "    <tr style=\"text-align: right;\">\n",
       "      <th></th>\n",
       "      <th>Open</th>\n",
       "      <th>High</th>\n",
       "      <th>Low</th>\n",
       "      <th>Close</th>\n",
       "      <th>Volume</th>\n",
       "      <th>Dividends</th>\n",
       "      <th>Stock Splits</th>\n",
       "    </tr>\n",
       "    <tr>\n",
       "      <th>Date</th>\n",
       "      <th></th>\n",
       "      <th></th>\n",
       "      <th></th>\n",
       "      <th></th>\n",
       "      <th></th>\n",
       "      <th></th>\n",
       "      <th></th>\n",
       "    </tr>\n",
       "  </thead>\n",
       "  <tbody>\n",
       "    <tr>\n",
       "      <th>2017-09-02</th>\n",
       "      <td>4901.419922</td>\n",
       "      <td>4975.040039</td>\n",
       "      <td>4469.240234</td>\n",
       "      <td>4578.770020</td>\n",
       "      <td>2722139904</td>\n",
       "      <td>0</td>\n",
       "      <td>0</td>\n",
       "    </tr>\n",
       "    <tr>\n",
       "      <th>2017-09-03</th>\n",
       "      <td>4585.270020</td>\n",
       "      <td>4714.080078</td>\n",
       "      <td>4417.589844</td>\n",
       "      <td>4582.959961</td>\n",
       "      <td>1933190016</td>\n",
       "      <td>0</td>\n",
       "      <td>0</td>\n",
       "    </tr>\n",
       "    <tr>\n",
       "      <th>2017-09-04</th>\n",
       "      <td>4591.629883</td>\n",
       "      <td>4591.629883</td>\n",
       "      <td>4108.399902</td>\n",
       "      <td>4236.310059</td>\n",
       "      <td>2987330048</td>\n",
       "      <td>0</td>\n",
       "      <td>0</td>\n",
       "    </tr>\n",
       "    <tr>\n",
       "      <th>2017-09-05</th>\n",
       "      <td>4228.290039</td>\n",
       "      <td>4427.839844</td>\n",
       "      <td>3998.110107</td>\n",
       "      <td>4376.529785</td>\n",
       "      <td>2697969920</td>\n",
       "      <td>0</td>\n",
       "      <td>0</td>\n",
       "    </tr>\n",
       "    <tr>\n",
       "      <th>2017-09-06</th>\n",
       "      <td>4376.589844</td>\n",
       "      <td>4617.250000</td>\n",
       "      <td>4376.589844</td>\n",
       "      <td>4597.120117</td>\n",
       "      <td>2172100096</td>\n",
       "      <td>0</td>\n",
       "      <td>0</td>\n",
       "    </tr>\n",
       "  </tbody>\n",
       "</table>\n",
       "</div>"
      ],
      "text/plain": [
       "                   Open         High          Low        Close      Volume  \\\n",
       "Date                                                                         \n",
       "2017-09-02  4901.419922  4975.040039  4469.240234  4578.770020  2722139904   \n",
       "2017-09-03  4585.270020  4714.080078  4417.589844  4582.959961  1933190016   \n",
       "2017-09-04  4591.629883  4591.629883  4108.399902  4236.310059  2987330048   \n",
       "2017-09-05  4228.290039  4427.839844  3998.110107  4376.529785  2697969920   \n",
       "2017-09-06  4376.589844  4617.250000  4376.589844  4597.120117  2172100096   \n",
       "\n",
       "            Dividends  Stock Splits  \n",
       "Date                                 \n",
       "2017-09-02          0             0  \n",
       "2017-09-03          0             0  \n",
       "2017-09-04          0             0  \n",
       "2017-09-05          0             0  \n",
       "2017-09-06          0             0  "
      ]
     },
     "execution_count": 19,
     "metadata": {},
     "output_type": "execute_result"
    }
   ],
   "source": [
    "ticker = yf.Ticker('BTC-USD')\n",
    "BTC_USD_df= ticker.history(period=\"5y\")\n",
    "BTC_USD_df.head()"
   ]
  },
  {
   "cell_type": "code",
   "execution_count": 20,
   "id": "89543e75",
   "metadata": {},
   "outputs": [
    {
     "data": {
      "text/plain": [
       "<AxesSubplot:title={'center':'Bitcoin stock price'}, xlabel='Date'>"
      ]
     },
     "execution_count": 20,
     "metadata": {},
     "output_type": "execute_result"
    },
    {
     "data": {
      "image/png": "[encoded data removed]",
      "text/plain": [
       "<Figure size 432x288 with 1 Axes>"
      ]
     },
     "metadata": {
      "needs_background": "light"
     },
     "output_type": "display_data"
    }
   ],
   "source": [
    "# plotting data\n",
    "BTC_USD_df['Close'].plot(title=\"Bitcoin stock price\")"
   ]
  },
  {
   "cell_type": "code",
   "execution_count": 21,
   "id": "ab9f7959",
   "metadata": {},
   "outputs": [
    {
     "data": {
      "text/html": [
       "<div>\n",
       "<style scoped>\n",
       "    .dataframe tbody tr th:only-of-type {\n",
       "        vertical-align: middle;\n",
       "    }\n",
       "\n",
       "    .dataframe tbody tr th {\n",
       "        vertical-align: top;\n",
       "    }\n",
       "\n",
       "    .dataframe thead th {\n",
       "        text-align: right;\n",
       "    }\n",
       "</style>\n",
       "<table border=\"1\" class=\"dataframe\">\n",
       "  <thead>\n",
       "    <tr style=\"text-align: right;\">\n",
       "      <th></th>\n",
       "      <th>Open</th>\n",
       "      <th>High</th>\n",
       "      <th>Low</th>\n",
       "    </tr>\n",
       "    <tr>\n",
       "      <th>Date</th>\n",
       "      <th></th>\n",
       "      <th></th>\n",
       "      <th></th>\n",
       "    </tr>\n",
       "  </thead>\n",
       "  <tbody>\n",
       "    <tr>\n",
       "      <th>2017-09-02</th>\n",
       "      <td>4901.419922</td>\n",
       "      <td>4975.040039</td>\n",
       "      <td>4469.240234</td>\n",
       "    </tr>\n",
       "    <tr>\n",
       "      <th>2017-09-03</th>\n",
       "      <td>4585.270020</td>\n",
       "      <td>4714.080078</td>\n",
       "      <td>4417.589844</td>\n",
       "    </tr>\n",
       "    <tr>\n",
       "      <th>2017-09-04</th>\n",
       "      <td>4591.629883</td>\n",
       "      <td>4591.629883</td>\n",
       "      <td>4108.399902</td>\n",
       "    </tr>\n",
       "    <tr>\n",
       "      <th>2017-09-05</th>\n",
       "      <td>4228.290039</td>\n",
       "      <td>4427.839844</td>\n",
       "      <td>3998.110107</td>\n",
       "    </tr>\n",
       "    <tr>\n",
       "      <th>2017-09-06</th>\n",
       "      <td>4376.589844</td>\n",
       "      <td>4617.250000</td>\n",
       "      <td>4376.589844</td>\n",
       "    </tr>\n",
       "  </tbody>\n",
       "</table>\n",
       "</div>"
      ],
      "text/plain": [
       "                   Open         High          Low\n",
       "Date                                             \n",
       "2017-09-02  4901.419922  4975.040039  4469.240234\n",
       "2017-09-03  4585.270020  4714.080078  4417.589844\n",
       "2017-09-04  4591.629883  4591.629883  4108.399902\n",
       "2017-09-05  4228.290039  4427.839844  3998.110107\n",
       "2017-09-06  4376.589844  4617.250000  4376.589844"
      ]
     },
     "execution_count": 21,
     "metadata": {},
     "output_type": "execute_result"
    }
   ],
   "source": [
    "# Drop Unnecessary columns\n",
    "X2 = BTC_USD_df.copy()\n",
    "X2 = X2.drop(columns=[\"Close\",\"Dividends\",\"Stock Splits\",\"Volume\"], axis=1)\n",
    "X2 = pd.get_dummies(X2)\n",
    "X2.head()"
   ]
  },
  {
   "cell_type": "code",
   "execution_count": 22,
   "id": "918d060a",
   "metadata": {},
   "outputs": [
    {
     "data": {
      "text/plain": [
       "array([4578.77001953, 4582.95996094, 4236.31005859, 4376.52978516,\n",
       "       4597.12011719])"
      ]
     },
     "execution_count": 22,
     "metadata": {},
     "output_type": "execute_result"
    }
   ],
   "source": [
    "# Define the target set.\n",
    "y2 = BTC_USD_df[\"Close\"].ravel()\n",
    "y2[:5]"
   ]
  },
  {
   "cell_type": "code",
   "execution_count": 23,
   "id": "b2d126c1",
   "metadata": {},
   "outputs": [],
   "source": [
    "# Splitting into Train and Test sets.\n",
    "X2_train, X2_test, y2_train, y2_test = train_test_split(X2, y2, random_state=78)"
   ]
  },
  {
   "cell_type": "code",
   "execution_count": 24,
   "id": "48b7b1cd",
   "metadata": {},
   "outputs": [],
   "source": [
    "# Creating a StandardScaler instance.\n",
    "scalerbtc = StandardScaler()\n",
    "# Fitting the Standard Scaler with the training data.\n",
    "X2_scalerbtc = scalerbtc.fit(X2_train)\n",
    "\n",
    "# Scaling the data.\n",
    "X2_train_scaledbtc = X2_scalerbtc.transform(X2_train)\n",
    "X2_test_scaledbtc = X2_scalerbtc.transform(X2_test)"
   ]
  },
  {
   "cell_type": "code",
   "execution_count": 25,
   "id": "5be6f2ab",
   "metadata": {},
   "outputs": [
    {
     "data": {
      "text/plain": [
       "array([[ 0.21044071,  0.23450559,  0.24991731],\n",
       "       [-0.62241599, -0.62617285, -0.60832377],\n",
       "       [-0.73917226, -0.71600663, -0.72942037],\n",
       "       ...,\n",
       "       [ 1.33404468,  1.38979305,  1.40204339],\n",
       "       [-0.71457869, -0.72476717, -0.71888902],\n",
       "       [-0.69731676, -0.702604  , -0.69072964]])"
      ]
     },
     "execution_count": 25,
     "metadata": {},
     "output_type": "execute_result"
    }
   ],
   "source": [
    "X2_test_scaledbtc"
   ]
  },
  {
   "cell_type": "code",
   "execution_count": 26,
   "id": "e9466274",
   "metadata": {},
   "outputs": [
    {
     "data": {
      "text/html": [
       "<div>\n",
       "<style scoped>\n",
       "    .dataframe tbody tr th:only-of-type {\n",
       "        vertical-align: middle;\n",
       "    }\n",
       "\n",
       "    .dataframe tbody tr th {\n",
       "        vertical-align: top;\n",
       "    }\n",
       "\n",
       "    .dataframe thead th {\n",
       "        text-align: right;\n",
       "    }\n",
       "</style>\n",
       "<table border=\"1\" class=\"dataframe\">\n",
       "  <thead>\n",
       "    <tr style=\"text-align: right;\">\n",
       "      <th></th>\n",
       "      <th>Open</th>\n",
       "      <th>High</th>\n",
       "      <th>Low</th>\n",
       "    </tr>\n",
       "  </thead>\n",
       "  <tbody>\n",
       "    <tr>\n",
       "      <th>count</th>\n",
       "      <td>1827.000000</td>\n",
       "      <td>1827.000000</td>\n",
       "      <td>1827.000000</td>\n",
       "    </tr>\n",
       "    <tr>\n",
       "      <th>mean</th>\n",
       "      <td>19651.302502</td>\n",
       "      <td>20159.534975</td>\n",
       "      <td>19080.638157</td>\n",
       "    </tr>\n",
       "    <tr>\n",
       "      <th>std</th>\n",
       "      <td>17289.883426</td>\n",
       "      <td>17734.390825</td>\n",
       "      <td>16770.486547</td>\n",
       "    </tr>\n",
       "    <tr>\n",
       "      <th>min</th>\n",
       "      <td>3166.300049</td>\n",
       "      <td>3275.377930</td>\n",
       "      <td>2946.620117</td>\n",
       "    </tr>\n",
       "    <tr>\n",
       "      <th>25%</th>\n",
       "      <td>7248.951904</td>\n",
       "      <td>7393.735596</td>\n",
       "      <td>7083.859375</td>\n",
       "    </tr>\n",
       "    <tr>\n",
       "      <th>50%</th>\n",
       "      <td>10198.599609</td>\n",
       "      <td>10394.353516</td>\n",
       "      <td>9903.969727</td>\n",
       "    </tr>\n",
       "    <tr>\n",
       "      <th>75%</th>\n",
       "      <td>33767.375000</td>\n",
       "      <td>34778.076172</td>\n",
       "      <td>32265.797852</td>\n",
       "    </tr>\n",
       "    <tr>\n",
       "      <th>max</th>\n",
       "      <td>67549.734375</td>\n",
       "      <td>68789.625000</td>\n",
       "      <td>66382.062500</td>\n",
       "    </tr>\n",
       "  </tbody>\n",
       "</table>\n",
       "</div>"
      ],
      "text/plain": [
       "               Open          High           Low\n",
       "count   1827.000000   1827.000000   1827.000000\n",
       "mean   19651.302502  20159.534975  19080.638157\n",
       "std    17289.883426  17734.390825  16770.486547\n",
       "min     3166.300049   3275.377930   2946.620117\n",
       "25%     7248.951904   7393.735596   7083.859375\n",
       "50%    10198.599609  10394.353516   9903.969727\n",
       "75%    33767.375000  34778.076172  32265.797852\n",
       "max    67549.734375  68789.625000  66382.062500"
      ]
     },
     "execution_count": 26,
     "metadata": {},
     "output_type": "execute_result"
    }
   ],
   "source": [
    "X2.describe()"
   ]
  },
  {
   "cell_type": "code",
   "execution_count": 27,
   "id": "5a0cec06",
   "metadata": {},
   "outputs": [
    {
     "data": {
      "text/plain": [
       "RandomForestRegressor(max_depth=2, random_state=78)"
      ]
     },
     "execution_count": 27,
     "metadata": {},
     "output_type": "execute_result"
    }
   ],
   "source": [
    "# Fitting the model\n",
    "regrbtc = RandomForestRegressor(max_depth=2, random_state=78)\n",
    "regrbtc.fit(X2_train_scaledbtc, y2_train)"
   ]
  },
  {
   "cell_type": "code",
   "execution_count": 28,
   "id": "5d2f6fb7",
   "metadata": {},
   "outputs": [],
   "source": [
    "predictionbtc=regrbtc.predict(X2_test_scaledbtc)"
   ]
  },
  {
   "cell_type": "code",
   "execution_count": 29,
   "id": "59f82062",
   "metadata": {},
   "outputs": [
    {
     "data": {
      "text/plain": [
       "0.9628785596700892"
      ]
     },
     "execution_count": 29,
     "metadata": {},
     "output_type": "execute_result"
    }
   ],
   "source": [
    "regrbtc.score(X2_test_scaledbtc,y2_test)"
   ]
  },
  {
   "cell_type": "code",
   "execution_count": 30,
   "id": "515af017",
   "metadata": {},
   "outputs": [
    {
     "name": "stderr",
     "output_type": "stream",
     "text": [
      "C:\\Users\\jemnj\\.conda\\envs\\mlenv\\lib\\site-packages\\sklearn\\base.py:442: UserWarning: X does not have valid feature names, but StandardScaler was fitted with feature names\n",
      "  \"X does not have valid feature names, but\"\n"
     ]
    }
   ],
   "source": [
    "value_tocheck=[4901.419922,4975.040039,4469.240234]\n",
    "scaledcheck= X2_scalerbtc.transform([value_tocheck])"
   ]
  },
  {
   "cell_type": "code",
   "execution_count": 31,
   "id": "85c063dc",
   "metadata": {},
   "outputs": [
    {
     "name": "stdout",
     "output_type": "stream",
     "text": [
      "[7778.24120589]\n"
     ]
    }
   ],
   "source": [
    "print(regrbtc.predict(scaledcheck))"
   ]
  },
  {
   "cell_type": "code",
   "execution_count": 32,
   "id": "86bbb38d",
   "metadata": {},
   "outputs": [
    {
     "data": {
      "text/plain": [
       "array([0.35021587, 0.36278463, 0.28699951])"
      ]
     },
     "execution_count": 32,
     "metadata": {},
     "output_type": "execute_result"
    }
   ],
   "source": [
    "# Calculate feature importance in the Random Forest model.\n",
    "importancesbtc = regrbtc.feature_importances_\n",
    "importancesbtc"
   ]
  },
  {
   "cell_type": "code",
   "execution_count": 33,
   "id": "14905783",
   "metadata": {},
   "outputs": [
    {
     "data": {
      "text/plain": [
       "Index(['Open', 'High', 'Low'], dtype='object')"
      ]
     },
     "execution_count": 33,
     "metadata": {},
     "output_type": "execute_result"
    }
   ],
   "source": [
    "X2_test.columns"
   ]
  },
  {
   "cell_type": "markdown",
   "id": "6f7c825a",
   "metadata": {},
   "source": [
    "### XRP USD (XRP-USD)\n"
   ]
  },
  {
   "cell_type": "code",
   "execution_count": 34,
   "id": "17a65490",
   "metadata": {},
   "outputs": [
    {
     "data": {
      "text/html": [
       "<div>\n",
       "<style scoped>\n",
       "    .dataframe tbody tr th:only-of-type {\n",
       "        vertical-align: middle;\n",
       "    }\n",
       "\n",
       "    .dataframe tbody tr th {\n",
       "        vertical-align: top;\n",
       "    }\n",
       "\n",
       "    .dataframe thead th {\n",
       "        text-align: right;\n",
       "    }\n",
       "</style>\n",
       "<table border=\"1\" class=\"dataframe\">\n",
       "  <thead>\n",
       "    <tr style=\"text-align: right;\">\n",
       "      <th></th>\n",
       "      <th>Open</th>\n",
       "      <th>High</th>\n",
       "      <th>Low</th>\n",
       "      <th>Close</th>\n",
       "      <th>Volume</th>\n",
       "      <th>Dividends</th>\n",
       "      <th>Stock Splits</th>\n",
       "    </tr>\n",
       "    <tr>\n",
       "      <th>Date</th>\n",
       "      <th></th>\n",
       "      <th></th>\n",
       "      <th></th>\n",
       "      <th></th>\n",
       "      <th></th>\n",
       "      <th></th>\n",
       "      <th></th>\n",
       "    </tr>\n",
       "  </thead>\n",
       "  <tbody>\n",
       "    <tr>\n",
       "      <th>2017-11-09</th>\n",
       "      <td>0.217911</td>\n",
       "      <td>0.221791</td>\n",
       "      <td>0.214866</td>\n",
       "      <td>0.217488</td>\n",
       "      <td>147916992</td>\n",
       "      <td>0</td>\n",
       "      <td>0</td>\n",
       "    </tr>\n",
       "    <tr>\n",
       "      <th>2017-11-10</th>\n",
       "      <td>0.218256</td>\n",
       "      <td>0.219068</td>\n",
       "      <td>0.205260</td>\n",
       "      <td>0.206483</td>\n",
       "      <td>141032992</td>\n",
       "      <td>0</td>\n",
       "      <td>0</td>\n",
       "    </tr>\n",
       "    <tr>\n",
       "      <th>2017-11-11</th>\n",
       "      <td>0.205948</td>\n",
       "      <td>0.214456</td>\n",
       "      <td>0.205459</td>\n",
       "      <td>0.210430</td>\n",
       "      <td>134503008</td>\n",
       "      <td>0</td>\n",
       "      <td>0</td>\n",
       "    </tr>\n",
       "    <tr>\n",
       "      <th>2017-11-12</th>\n",
       "      <td>0.210214</td>\n",
       "      <td>0.210214</td>\n",
       "      <td>0.195389</td>\n",
       "      <td>0.197339</td>\n",
       "      <td>251175008</td>\n",
       "      <td>0</td>\n",
       "      <td>0</td>\n",
       "    </tr>\n",
       "    <tr>\n",
       "      <th>2017-11-13</th>\n",
       "      <td>0.197472</td>\n",
       "      <td>0.204081</td>\n",
       "      <td>0.197456</td>\n",
       "      <td>0.203442</td>\n",
       "      <td>132567000</td>\n",
       "      <td>0</td>\n",
       "      <td>0</td>\n",
       "    </tr>\n",
       "  </tbody>\n",
       "</table>\n",
       "</div>"
      ],
      "text/plain": [
       "                Open      High       Low     Close     Volume  Dividends  \\\n",
       "Date                                                                       \n",
       "2017-11-09  0.217911  0.221791  0.214866  0.217488  147916992          0   \n",
       "2017-11-10  0.218256  0.219068  0.205260  0.206483  141032992          0   \n",
       "2017-11-11  0.205948  0.214456  0.205459  0.210430  134503008          0   \n",
       "2017-11-12  0.210214  0.210214  0.195389  0.197339  251175008          0   \n",
       "2017-11-13  0.197472  0.204081  0.197456  0.203442  132567000          0   \n",
       "\n",
       "            Stock Splits  \n",
       "Date                      \n",
       "2017-11-09             0  \n",
       "2017-11-10             0  \n",
       "2017-11-11             0  \n",
       "2017-11-12             0  \n",
       "2017-11-13             0  "
      ]
     },
     "execution_count": 34,
     "metadata": {},
     "output_type": "execute_result"
    }
   ],
   "source": [
    "ticker = yf.Ticker('XRP-USD')\n",
    "XRP_USD_df = ticker.history(period=\"5y\")\n",
    "XRP_USD_df.head()"
   ]
  },
  {
   "cell_type": "code",
   "execution_count": 35,
   "id": "d2aaa871",
   "metadata": {},
   "outputs": [
    {
     "data": {
      "text/plain": [
       "<AxesSubplot:title={'center':'XRP stock price'}, xlabel='Date'>"
      ]
     },
     "execution_count": 35,
     "metadata": {},
     "output_type": "execute_result"
    },
    {
     "data": {
      "image/png": "[encoded data removed]",
      "text/plain": [
       "<Figure size 432x288 with 1 Axes>"
      ]
     },
     "metadata": {
      "needs_background": "light"
     },
     "output_type": "display_data"
    }
   ],
   "source": [
    "# plotting data\n",
    "XRP_USD_df['Close'].plot(title=\"XRP stock price\")"
   ]
  },
  {
   "cell_type": "code",
   "execution_count": 36,
   "id": "57a1e3d6",
   "metadata": {},
   "outputs": [
    {
     "data": {
      "text/html": [
       "<div>\n",
       "<style scoped>\n",
       "    .dataframe tbody tr th:only-of-type {\n",
       "        vertical-align: middle;\n",
       "    }\n",
       "\n",
       "    .dataframe tbody tr th {\n",
       "        vertical-align: top;\n",
       "    }\n",
       "\n",
       "    .dataframe thead th {\n",
       "        text-align: right;\n",
       "    }\n",
       "</style>\n",
       "<table border=\"1\" class=\"dataframe\">\n",
       "  <thead>\n",
       "    <tr style=\"text-align: right;\">\n",
       "      <th></th>\n",
       "      <th>Open</th>\n",
       "      <th>High</th>\n",
       "      <th>Low</th>\n",
       "    </tr>\n",
       "    <tr>\n",
       "      <th>Date</th>\n",
       "      <th></th>\n",
       "      <th></th>\n",
       "      <th></th>\n",
       "    </tr>\n",
       "  </thead>\n",
       "  <tbody>\n",
       "    <tr>\n",
       "      <th>2017-11-09</th>\n",
       "      <td>0.217911</td>\n",
       "      <td>0.221791</td>\n",
       "      <td>0.214866</td>\n",
       "    </tr>\n",
       "    <tr>\n",
       "      <th>2017-11-10</th>\n",
       "      <td>0.218256</td>\n",
       "      <td>0.219068</td>\n",
       "      <td>0.205260</td>\n",
       "    </tr>\n",
       "    <tr>\n",
       "      <th>2017-11-11</th>\n",
       "      <td>0.205948</td>\n",
       "      <td>0.214456</td>\n",
       "      <td>0.205459</td>\n",
       "    </tr>\n",
       "    <tr>\n",
       "      <th>2017-11-12</th>\n",
       "      <td>0.210214</td>\n",
       "      <td>0.210214</td>\n",
       "      <td>0.195389</td>\n",
       "    </tr>\n",
       "    <tr>\n",
       "      <th>2017-11-13</th>\n",
       "      <td>0.197472</td>\n",
       "      <td>0.204081</td>\n",
       "      <td>0.197456</td>\n",
       "    </tr>\n",
       "  </tbody>\n",
       "</table>\n",
       "</div>"
      ],
      "text/plain": [
       "                Open      High       Low\n",
       "Date                                    \n",
       "2017-11-09  0.217911  0.221791  0.214866\n",
       "2017-11-10  0.218256  0.219068  0.205260\n",
       "2017-11-11  0.205948  0.214456  0.205459\n",
       "2017-11-12  0.210214  0.210214  0.195389\n",
       "2017-11-13  0.197472  0.204081  0.197456"
      ]
     },
     "execution_count": 36,
     "metadata": {},
     "output_type": "execute_result"
    }
   ],
   "source": [
    "# Drop Unnecessary columns\n",
    "X3 = XRP_USD_df.copy()\n",
    "X3 = X3.drop(columns=[\"Close\",\"Dividends\",\"Stock Splits\",\"Volume\"], axis=1)\n",
    "X3 = pd.get_dummies(X3)\n",
    "X3.head()"
   ]
  },
  {
   "cell_type": "code",
   "execution_count": 37,
   "id": "bd8837c9",
   "metadata": {},
   "outputs": [
    {
     "data": {
      "text/plain": [
       "array([0.21748801, 0.20648301, 0.21043   , 0.197339  , 0.20344201])"
      ]
     },
     "execution_count": 37,
     "metadata": {},
     "output_type": "execute_result"
    }
   ],
   "source": [
    "# Define the target set.\n",
    "y3 = XRP_USD_df[\"Close\"].ravel()\n",
    "y3[:5]"
   ]
  },
  {
   "cell_type": "code",
   "execution_count": 38,
   "id": "8b274cdc",
   "metadata": {},
   "outputs": [],
   "source": [
    "# Splitting into Train and Test sets.\n",
    "X3_train, X3_test, y3_train, y3_test = train_test_split(X3, y3, random_state=78)"
   ]
  },
  {
   "cell_type": "code",
   "execution_count": 39,
   "id": "b29d9030",
   "metadata": {},
   "outputs": [],
   "source": [
    "# Creating a StandardScaler instance.\n",
    "scalerxrp = StandardScaler()\n",
    "# Fitting the Standard Scaler with the training data.\n",
    "X3_scalerxrp = scalerxrp.fit(X3_train)\n",
    "\n",
    "# Scaling the data.\n",
    "X3_train_scaledxrp = X3_scalerxrp.transform(X3_train)\n",
    "X3_test_scaledxrp = X3_scalerxrp.transform(X3_test)"
   ]
  },
  {
   "cell_type": "code",
   "execution_count": 40,
   "id": "26e8c995",
   "metadata": {},
   "outputs": [
    {
     "data": {
      "text/plain": [
       "array([[ 6.72848725,  6.64238536,  7.31740787],\n",
       "       [-0.62787918, -0.63372339, -0.63802698],\n",
       "       [-0.67947923, -0.66675408, -0.66825662],\n",
       "       ...,\n",
       "       [-0.53934611, -0.54221853, -0.53070046],\n",
       "       [ 0.37113313,  0.29941742,  0.43620596],\n",
       "       [-0.90703086, -0.88727849, -0.93832929]])"
      ]
     },
     "execution_count": 40,
     "metadata": {},
     "output_type": "execute_result"
    }
   ],
   "source": [
    "X3_test_scaledxrp"
   ]
  },
  {
   "cell_type": "code",
   "execution_count": 41,
   "id": "b973dcd3",
   "metadata": {},
   "outputs": [
    {
     "data": {
      "text/html": [
       "<div>\n",
       "<style scoped>\n",
       "    .dataframe tbody tr th:only-of-type {\n",
       "        vertical-align: middle;\n",
       "    }\n",
       "\n",
       "    .dataframe tbody tr th {\n",
       "        vertical-align: top;\n",
       "    }\n",
       "\n",
       "    .dataframe thead th {\n",
       "        text-align: right;\n",
       "    }\n",
       "</style>\n",
       "<table border=\"1\" class=\"dataframe\">\n",
       "  <thead>\n",
       "    <tr style=\"text-align: right;\">\n",
       "      <th></th>\n",
       "      <th>Open</th>\n",
       "      <th>High</th>\n",
       "      <th>Low</th>\n",
       "    </tr>\n",
       "  </thead>\n",
       "  <tbody>\n",
       "    <tr>\n",
       "      <th>count</th>\n",
       "      <td>1759.000000</td>\n",
       "      <td>1759.000000</td>\n",
       "      <td>1759.000000</td>\n",
       "    </tr>\n",
       "    <tr>\n",
       "      <th>mean</th>\n",
       "      <td>0.532054</td>\n",
       "      <td>0.555905</td>\n",
       "      <td>0.506656</td>\n",
       "    </tr>\n",
       "    <tr>\n",
       "      <th>std</th>\n",
       "      <td>0.375233</td>\n",
       "      <td>0.406316</td>\n",
       "      <td>0.344708</td>\n",
       "    </tr>\n",
       "    <tr>\n",
       "      <th>min</th>\n",
       "      <td>0.140524</td>\n",
       "      <td>0.146911</td>\n",
       "      <td>0.115093</td>\n",
       "    </tr>\n",
       "    <tr>\n",
       "      <th>25%</th>\n",
       "      <td>0.277366</td>\n",
       "      <td>0.284119</td>\n",
       "      <td>0.269360</td>\n",
       "    </tr>\n",
       "    <tr>\n",
       "      <th>50%</th>\n",
       "      <td>0.386587</td>\n",
       "      <td>0.403607</td>\n",
       "      <td>0.373879</td>\n",
       "    </tr>\n",
       "    <tr>\n",
       "      <th>75%</th>\n",
       "      <td>0.712923</td>\n",
       "      <td>0.744617</td>\n",
       "      <td>0.674432</td>\n",
       "    </tr>\n",
       "    <tr>\n",
       "      <th>max</th>\n",
       "      <td>3.363570</td>\n",
       "      <td>3.841940</td>\n",
       "      <td>3.117340</td>\n",
       "    </tr>\n",
       "  </tbody>\n",
       "</table>\n",
       "</div>"
      ],
      "text/plain": [
       "              Open         High          Low\n",
       "count  1759.000000  1759.000000  1759.000000\n",
       "mean      0.532054     0.555905     0.506656\n",
       "std       0.375233     0.406316     0.344708\n",
       "min       0.140524     0.146911     0.115093\n",
       "25%       0.277366     0.284119     0.269360\n",
       "50%       0.386587     0.403607     0.373879\n",
       "75%       0.712923     0.744617     0.674432\n",
       "max       3.363570     3.841940     3.117340"
      ]
     },
     "execution_count": 41,
     "metadata": {},
     "output_type": "execute_result"
    }
   ],
   "source": [
    "X3.describe()"
   ]
  },
  {
   "cell_type": "code",
   "execution_count": 42,
   "id": "9dadaac2",
   "metadata": {},
   "outputs": [
    {
     "data": {
      "text/plain": [
       "RandomForestRegressor(max_depth=2, random_state=78)"
      ]
     },
     "execution_count": 42,
     "metadata": {},
     "output_type": "execute_result"
    }
   ],
   "source": [
    "# Fitting the model\n",
    "regrxrp = RandomForestRegressor(max_depth=2, random_state=78)\n",
    "regrxrp.fit(X3_train_scaledxrp, y3_train)"
   ]
  },
  {
   "cell_type": "code",
   "execution_count": 43,
   "id": "4a44ad85",
   "metadata": {},
   "outputs": [],
   "source": [
    "predictionxrp=regrxrp.predict(X3_test_scaledxrp)"
   ]
  },
  {
   "cell_type": "code",
   "execution_count": 44,
   "id": "d3580225",
   "metadata": {},
   "outputs": [
    {
     "data": {
      "text/plain": [
       "0.8933415654507648"
      ]
     },
     "execution_count": 44,
     "metadata": {},
     "output_type": "execute_result"
    }
   ],
   "source": [
    "regrxrp.score(X3_test_scaledxrp,y3_test)"
   ]
  },
  {
   "cell_type": "code",
   "execution_count": 45,
   "id": "f077e8ca",
   "metadata": {},
   "outputs": [
    {
     "name": "stderr",
     "output_type": "stream",
     "text": [
      "C:\\Users\\jemnj\\.conda\\envs\\mlenv\\lib\\site-packages\\sklearn\\base.py:442: UserWarning: X does not have valid feature names, but StandardScaler was fitted with feature names\n",
      "  \"X does not have valid feature names, but\"\n"
     ]
    }
   ],
   "source": [
    "value_tocheckxrp=[0.217911,0.221791,0.214866]\n",
    "scaledcheckxrp= X3_scalerxrp.transform([value_tocheck])"
   ]
  },
  {
   "cell_type": "code",
   "execution_count": 46,
   "id": "4eee1794",
   "metadata": {},
   "outputs": [
    {
     "name": "stdout",
     "output_type": "stream",
     "text": [
      "[0.27806003]\n"
     ]
    }
   ],
   "source": [
    "# Making predictions using the testing data.\n",
    "print(regrxrp.predict(scaledcheck))"
   ]
  },
  {
   "cell_type": "code",
   "execution_count": 47,
   "id": "65b675fd",
   "metadata": {},
   "outputs": [
    {
     "data": {
      "text/plain": [
       "array([0.17301641, 0.3738015 , 0.45318208])"
      ]
     },
     "execution_count": 47,
     "metadata": {},
     "output_type": "execute_result"
    }
   ],
   "source": [
    "# Calculate feature importance in the Random Forest model.\n",
    "importancesxrp = regrxrp.feature_importances_\n",
    "importancesxrp"
   ]
  },
  {
   "cell_type": "code",
   "execution_count": 48,
   "id": "450661a7",
   "metadata": {},
   "outputs": [
    {
     "data": {
      "text/plain": [
       "Index(['Open', 'High', 'Low'], dtype='object')"
      ]
     },
     "execution_count": 48,
     "metadata": {},
     "output_type": "execute_result"
    }
   ],
   "source": [
    "X3_test.columns"
   ]
  },
  {
   "cell_type": "markdown",
   "id": "9ccea630",
   "metadata": {},
   "source": [
    "### Tether USD (USDT-USD)"
   ]
  },
  {
   "cell_type": "code",
   "execution_count": 49,
   "id": "fecba458",
   "metadata": {},
   "outputs": [
    {
     "data": {
      "text/html": [
       "<div>\n",
       "<style scoped>\n",
       "    .dataframe tbody tr th:only-of-type {\n",
       "        vertical-align: middle;\n",
       "    }\n",
       "\n",
       "    .dataframe tbody tr th {\n",
       "        vertical-align: top;\n",
       "    }\n",
       "\n",
       "    .dataframe thead th {\n",
       "        text-align: right;\n",
       "    }\n",
       "</style>\n",
       "<table border=\"1\" class=\"dataframe\">\n",
       "  <thead>\n",
       "    <tr style=\"text-align: right;\">\n",
       "      <th></th>\n",
       "      <th>Open</th>\n",
       "      <th>High</th>\n",
       "      <th>Low</th>\n",
       "      <th>Close</th>\n",
       "      <th>Volume</th>\n",
       "      <th>Dividends</th>\n",
       "      <th>Stock Splits</th>\n",
       "    </tr>\n",
       "    <tr>\n",
       "      <th>Date</th>\n",
       "      <th></th>\n",
       "      <th></th>\n",
       "      <th></th>\n",
       "      <th></th>\n",
       "      <th></th>\n",
       "      <th></th>\n",
       "      <th></th>\n",
       "    </tr>\n",
       "  </thead>\n",
       "  <tbody>\n",
       "    <tr>\n",
       "      <th>2017-11-09</th>\n",
       "      <td>1.01087</td>\n",
       "      <td>1.01327</td>\n",
       "      <td>0.996515</td>\n",
       "      <td>1.00818</td>\n",
       "      <td>358188000</td>\n",
       "      <td>0</td>\n",
       "      <td>0</td>\n",
       "    </tr>\n",
       "    <tr>\n",
       "      <th>2017-11-10</th>\n",
       "      <td>1.00650</td>\n",
       "      <td>1.02423</td>\n",
       "      <td>0.995486</td>\n",
       "      <td>1.00601</td>\n",
       "      <td>756446016</td>\n",
       "      <td>0</td>\n",
       "      <td>0</td>\n",
       "    </tr>\n",
       "    <tr>\n",
       "      <th>2017-11-11</th>\n",
       "      <td>1.00598</td>\n",
       "      <td>1.02621</td>\n",
       "      <td>0.995799</td>\n",
       "      <td>1.00899</td>\n",
       "      <td>746227968</td>\n",
       "      <td>0</td>\n",
       "      <td>0</td>\n",
       "    </tr>\n",
       "    <tr>\n",
       "      <th>2017-11-12</th>\n",
       "      <td>1.00602</td>\n",
       "      <td>1.10591</td>\n",
       "      <td>0.967601</td>\n",
       "      <td>1.01247</td>\n",
       "      <td>1466060032</td>\n",
       "      <td>0</td>\n",
       "      <td>0</td>\n",
       "    </tr>\n",
       "    <tr>\n",
       "      <th>2017-11-13</th>\n",
       "      <td>1.00448</td>\n",
       "      <td>1.02929</td>\n",
       "      <td>0.975103</td>\n",
       "      <td>1.00935</td>\n",
       "      <td>767884032</td>\n",
       "      <td>0</td>\n",
       "      <td>0</td>\n",
       "    </tr>\n",
       "  </tbody>\n",
       "</table>\n",
       "</div>"
      ],
      "text/plain": [
       "               Open     High       Low    Close      Volume  Dividends  \\\n",
       "Date                                                                     \n",
       "2017-11-09  1.01087  1.01327  0.996515  1.00818   358188000          0   \n",
       "2017-11-10  1.00650  1.02423  0.995486  1.00601   756446016          0   \n",
       "2017-11-11  1.00598  1.02621  0.995799  1.00899   746227968          0   \n",
       "2017-11-12  1.00602  1.10591  0.967601  1.01247  1466060032          0   \n",
       "2017-11-13  1.00448  1.02929  0.975103  1.00935   767884032          0   \n",
       "\n",
       "            Stock Splits  \n",
       "Date                      \n",
       "2017-11-09             0  \n",
       "2017-11-10             0  \n",
       "2017-11-11             0  \n",
       "2017-11-12             0  \n",
       "2017-11-13             0  "
      ]
     },
     "execution_count": 49,
     "metadata": {},
     "output_type": "execute_result"
    }
   ],
   "source": [
    "ticker = yf.Ticker('USDT-USD')\n",
    "USDT_USD_df= ticker.history(period=\"5y\")\n",
    "USDT_USD_df.head()"
   ]
  },
  {
   "cell_type": "code",
   "execution_count": 50,
   "id": "287c17f0",
   "metadata": {},
   "outputs": [
    {
     "data": {
      "text/plain": [
       "<AxesSubplot:title={'center':'Tether stock price'}, xlabel='Date'>"
      ]
     },
     "execution_count": 50,
     "metadata": {},
     "output_type": "execute_result"
    },
    {
     "data": {
      "image/png": "[encoded data removed]",
      "text/plain": [
       "<Figure size 432x288 with 1 Axes>"
      ]
     },
     "metadata": {
      "needs_background": "light"
     },
     "output_type": "display_data"
    }
   ],
   "source": [
    "# plotting data\n",
    "USDT_USD_df['Close'].plot(title=\"Tether stock price\")"
   ]
  },
  {
   "cell_type": "code",
   "execution_count": 51,
   "id": "18b1aefb",
   "metadata": {},
   "outputs": [
    {
     "data": {
      "text/html": [
       "<div>\n",
       "<style scoped>\n",
       "    .dataframe tbody tr th:only-of-type {\n",
       "        vertical-align: middle;\n",
       "    }\n",
       "\n",
       "    .dataframe tbody tr th {\n",
       "        vertical-align: top;\n",
       "    }\n",
       "\n",
       "    .dataframe thead th {\n",
       "        text-align: right;\n",
       "    }\n",
       "</style>\n",
       "<table border=\"1\" class=\"dataframe\">\n",
       "  <thead>\n",
       "    <tr style=\"text-align: right;\">\n",
       "      <th></th>\n",
       "      <th>Open</th>\n",
       "      <th>High</th>\n",
       "      <th>Low</th>\n",
       "    </tr>\n",
       "    <tr>\n",
       "      <th>Date</th>\n",
       "      <th></th>\n",
       "      <th></th>\n",
       "      <th></th>\n",
       "    </tr>\n",
       "  </thead>\n",
       "  <tbody>\n",
       "    <tr>\n",
       "      <th>2017-11-09</th>\n",
       "      <td>1.010870</td>\n",
       "      <td>1.01327</td>\n",
       "      <td>0.996515</td>\n",
       "    </tr>\n",
       "    <tr>\n",
       "      <th>2017-11-10</th>\n",
       "      <td>1.006500</td>\n",
       "      <td>1.02423</td>\n",
       "      <td>0.995486</td>\n",
       "    </tr>\n",
       "    <tr>\n",
       "      <th>2017-11-11</th>\n",
       "      <td>1.005980</td>\n",
       "      <td>1.02621</td>\n",
       "      <td>0.995799</td>\n",
       "    </tr>\n",
       "    <tr>\n",
       "      <th>2017-11-12</th>\n",
       "      <td>1.006020</td>\n",
       "      <td>1.10591</td>\n",
       "      <td>0.967601</td>\n",
       "    </tr>\n",
       "    <tr>\n",
       "      <th>2017-11-13</th>\n",
       "      <td>1.004480</td>\n",
       "      <td>1.02929</td>\n",
       "      <td>0.975103</td>\n",
       "    </tr>\n",
       "    <tr>\n",
       "      <th>2017-11-14</th>\n",
       "      <td>1.005240</td>\n",
       "      <td>1.01343</td>\n",
       "      <td>0.996898</td>\n",
       "    </tr>\n",
       "    <tr>\n",
       "      <th>2017-11-15</th>\n",
       "      <td>1.004580</td>\n",
       "      <td>1.01163</td>\n",
       "      <td>1.000250</td>\n",
       "    </tr>\n",
       "    <tr>\n",
       "      <th>2017-11-16</th>\n",
       "      <td>1.005820</td>\n",
       "      <td>1.01089</td>\n",
       "      <td>0.993232</td>\n",
       "    </tr>\n",
       "    <tr>\n",
       "      <th>2017-11-17</th>\n",
       "      <td>0.995758</td>\n",
       "      <td>1.01181</td>\n",
       "      <td>0.995758</td>\n",
       "    </tr>\n",
       "    <tr>\n",
       "      <th>2017-11-18</th>\n",
       "      <td>1.000650</td>\n",
       "      <td>1.00918</td>\n",
       "      <td>0.996340</td>\n",
       "    </tr>\n",
       "  </tbody>\n",
       "</table>\n",
       "</div>"
      ],
      "text/plain": [
       "                Open     High       Low\n",
       "Date                                   \n",
       "2017-11-09  1.010870  1.01327  0.996515\n",
       "2017-11-10  1.006500  1.02423  0.995486\n",
       "2017-11-11  1.005980  1.02621  0.995799\n",
       "2017-11-12  1.006020  1.10591  0.967601\n",
       "2017-11-13  1.004480  1.02929  0.975103\n",
       "2017-11-14  1.005240  1.01343  0.996898\n",
       "2017-11-15  1.004580  1.01163  1.000250\n",
       "2017-11-16  1.005820  1.01089  0.993232\n",
       "2017-11-17  0.995758  1.01181  0.995758\n",
       "2017-11-18  1.000650  1.00918  0.996340"
      ]
     },
     "execution_count": 51,
     "metadata": {},
     "output_type": "execute_result"
    }
   ],
   "source": [
    "# Drop Unnecessary columns\n",
    "X4 = USDT_USD_df.copy()\n",
    "X4 = X4.drop(columns=[\"Close\",\"Dividends\",\"Stock Splits\",\"Volume\"], axis=1)\n",
    "X4 = pd.get_dummies(X4)\n",
    "X4.head(10)"
   ]
  },
  {
   "cell_type": "code",
   "execution_count": 52,
   "id": "5dfc6349",
   "metadata": {},
   "outputs": [
    {
     "data": {
      "text/plain": [
       "array([1.00818002, 1.00601006, 1.00899005, 1.01247001, 1.00934994])"
      ]
     },
     "execution_count": 52,
     "metadata": {},
     "output_type": "execute_result"
    }
   ],
   "source": [
    "# Define the target set.\n",
    "y4 = USDT_USD_df[\"Close\"].ravel()\n",
    "y4[:5]"
   ]
  },
  {
   "cell_type": "code",
   "execution_count": 53,
   "id": "d3a9aff6",
   "metadata": {},
   "outputs": [],
   "source": [
    "# Splitting into Train and Test sets.\n",
    "X4_train, X4_test, y4_train, y4_test = train_test_split(X4, y, random_state=78)"
   ]
  },
  {
   "cell_type": "code",
   "execution_count": 54,
   "id": "957010f9",
   "metadata": {},
   "outputs": [],
   "source": [
    "# Creating a StandardScaler instance.\n",
    "scalerusdt = StandardScaler()\n",
    "# Fitting the Standard Scaler with the training data.\n",
    "X4_scalerusdt = scalerusdt.fit(X_train)\n",
    "\n",
    "# Scaling the data.\n",
    "X4_train_scaledusdt = X4_scalerusdt.transform(X4_train)\n",
    "X4_test_scaledusdt = X4_scalerusdt.transform(X4_test)"
   ]
  },
  {
   "cell_type": "code",
   "execution_count": 55,
   "id": "33803ed5",
   "metadata": {},
   "outputs": [
    {
     "data": {
      "text/plain": [
       "array([[ 9.28700798,  8.69095428,  9.98681148],\n",
       "       [ 9.36591291,  8.69491909, 10.08413572],\n",
       "       [ 9.30989188,  8.61893399,  9.94134433],\n",
       "       ...,\n",
       "       [ 9.28438232,  8.58134414, 10.0199359 ],\n",
       "       [ 9.28446232,  8.58752436, 10.0178559 ],\n",
       "       [ 9.33627901,  8.69964237,  9.99832741]])"
      ]
     },
     "execution_count": 55,
     "metadata": {},
     "output_type": "execute_result"
    }
   ],
   "source": [
    "X4_test_scaledusdt"
   ]
  },
  {
   "cell_type": "code",
   "execution_count": 56,
   "id": "8ab11b16",
   "metadata": {},
   "outputs": [
    {
     "data": {
      "text/plain": [
       "RandomForestRegressor(max_depth=2, random_state=78)"
      ]
     },
     "execution_count": 56,
     "metadata": {},
     "output_type": "execute_result"
    }
   ],
   "source": [
    "# Fitting the model\n",
    "regrusdt = RandomForestRegressor(max_depth=2, random_state=78)\n",
    "regrusdt.fit(X4_train_scaledusdt, y4_train)"
   ]
  },
  {
   "cell_type": "code",
   "execution_count": 57,
   "id": "80f8d60a",
   "metadata": {},
   "outputs": [
    {
     "name": "stderr",
     "output_type": "stream",
     "text": [
      "C:\\Users\\jemnj\\.conda\\envs\\mlenv\\lib\\site-packages\\sklearn\\base.py:442: UserWarning: X does not have valid feature names, but StandardScaler was fitted with feature names\n",
      "  \"X does not have valid feature names, but\"\n"
     ]
    }
   ],
   "source": [
    "value_tocheckusdt=[1.010870,1.01327,0.996515]\n",
    "scaledcheckusdt= X4_scalerusdt.transform([value_tocheck])"
   ]
  },
  {
   "cell_type": "code",
   "execution_count": 58,
   "id": "27369c02",
   "metadata": {},
   "outputs": [
    {
     "name": "stdout",
     "output_type": "stream",
     "text": [
      "[0.0485381]\n"
     ]
    }
   ],
   "source": [
    "# Making predictions using the testing data.\n",
    "print(regrusdt.predict(scaledcheck))"
   ]
  },
  {
   "cell_type": "code",
   "execution_count": 59,
   "id": "4cb475e0",
   "metadata": {},
   "outputs": [
    {
     "data": {
      "text/plain": [
       "0.5160041826327889"
      ]
     },
     "execution_count": 59,
     "metadata": {},
     "output_type": "execute_result"
    }
   ],
   "source": [
    "regrusdt.score(X4_test_scaledusdt,y4_test)"
   ]
  },
  {
   "cell_type": "code",
   "execution_count": 60,
   "id": "df1df6ac",
   "metadata": {},
   "outputs": [
    {
     "data": {
      "text/plain": [
       "array([0.0954618 , 0.89673725, 0.00780095])"
      ]
     },
     "execution_count": 60,
     "metadata": {},
     "output_type": "execute_result"
    }
   ],
   "source": [
    "# Calculate feature importance in the Random Forest model.\n",
    "importancesusdt = regrusdt.feature_importances_\n",
    "importancesusdt"
   ]
  },
  {
   "cell_type": "code",
   "execution_count": 61,
   "id": "2c6b357f",
   "metadata": {},
   "outputs": [
    {
     "data": {
      "text/plain": [
       "Index(['Open', 'High', 'Low'], dtype='object')"
      ]
     },
     "execution_count": 61,
     "metadata": {},
     "output_type": "execute_result"
    }
   ],
   "source": [
    "X4_test.columns"
   ]
  },
  {
   "cell_type": "markdown",
   "id": "2db404ee",
   "metadata": {},
   "source": [
    "### Ethereum USD (ETH-USD)"
   ]
  },
  {
   "cell_type": "code",
   "execution_count": 62,
   "id": "af18c8a9",
   "metadata": {},
   "outputs": [
    {
     "data": {
      "text/html": [
       "<div>\n",
       "<style scoped>\n",
       "    .dataframe tbody tr th:only-of-type {\n",
       "        vertical-align: middle;\n",
       "    }\n",
       "\n",
       "    .dataframe tbody tr th {\n",
       "        vertical-align: top;\n",
       "    }\n",
       "\n",
       "    .dataframe thead th {\n",
       "        text-align: right;\n",
       "    }\n",
       "</style>\n",
       "<table border=\"1\" class=\"dataframe\">\n",
       "  <thead>\n",
       "    <tr style=\"text-align: right;\">\n",
       "      <th></th>\n",
       "      <th>Open</th>\n",
       "      <th>High</th>\n",
       "      <th>Low</th>\n",
       "      <th>Close</th>\n",
       "      <th>Volume</th>\n",
       "      <th>Dividends</th>\n",
       "      <th>Stock Splits</th>\n",
       "    </tr>\n",
       "    <tr>\n",
       "      <th>Date</th>\n",
       "      <th></th>\n",
       "      <th></th>\n",
       "      <th></th>\n",
       "      <th></th>\n",
       "      <th></th>\n",
       "      <th></th>\n",
       "      <th></th>\n",
       "    </tr>\n",
       "  </thead>\n",
       "  <tbody>\n",
       "    <tr>\n",
       "      <th>2017-11-09</th>\n",
       "      <td>308.644989</td>\n",
       "      <td>329.451996</td>\n",
       "      <td>307.056000</td>\n",
       "      <td>320.884003</td>\n",
       "      <td>893249984</td>\n",
       "      <td>0</td>\n",
       "      <td>0</td>\n",
       "    </tr>\n",
       "    <tr>\n",
       "      <th>2017-11-10</th>\n",
       "      <td>320.670990</td>\n",
       "      <td>324.717987</td>\n",
       "      <td>294.541992</td>\n",
       "      <td>299.252991</td>\n",
       "      <td>885985984</td>\n",
       "      <td>0</td>\n",
       "      <td>0</td>\n",
       "    </tr>\n",
       "    <tr>\n",
       "      <th>2017-11-11</th>\n",
       "      <td>298.585999</td>\n",
       "      <td>319.453003</td>\n",
       "      <td>298.191986</td>\n",
       "      <td>314.681000</td>\n",
       "      <td>842300992</td>\n",
       "      <td>0</td>\n",
       "      <td>0</td>\n",
       "    </tr>\n",
       "    <tr>\n",
       "      <th>2017-11-12</th>\n",
       "      <td>314.690002</td>\n",
       "      <td>319.153015</td>\n",
       "      <td>298.513000</td>\n",
       "      <td>307.907990</td>\n",
       "      <td>1613479936</td>\n",
       "      <td>0</td>\n",
       "      <td>0</td>\n",
       "    </tr>\n",
       "    <tr>\n",
       "      <th>2017-11-13</th>\n",
       "      <td>307.024994</td>\n",
       "      <td>328.415009</td>\n",
       "      <td>307.024994</td>\n",
       "      <td>316.716003</td>\n",
       "      <td>1041889984</td>\n",
       "      <td>0</td>\n",
       "      <td>0</td>\n",
       "    </tr>\n",
       "  </tbody>\n",
       "</table>\n",
       "</div>"
      ],
      "text/plain": [
       "                  Open        High         Low       Close      Volume  \\\n",
       "Date                                                                     \n",
       "2017-11-09  308.644989  329.451996  307.056000  320.884003   893249984   \n",
       "2017-11-10  320.670990  324.717987  294.541992  299.252991   885985984   \n",
       "2017-11-11  298.585999  319.453003  298.191986  314.681000   842300992   \n",
       "2017-11-12  314.690002  319.153015  298.513000  307.907990  1613479936   \n",
       "2017-11-13  307.024994  328.415009  307.024994  316.716003  1041889984   \n",
       "\n",
       "            Dividends  Stock Splits  \n",
       "Date                                 \n",
       "2017-11-09          0             0  \n",
       "2017-11-10          0             0  \n",
       "2017-11-11          0             0  \n",
       "2017-11-12          0             0  \n",
       "2017-11-13          0             0  "
      ]
     },
     "execution_count": 62,
     "metadata": {},
     "output_type": "execute_result"
    }
   ],
   "source": [
    "ticker = yf.Ticker('ETH-USD')\n",
    "ETH_USD_df= ticker.history(period=\"5y\")\n",
    "ETH_USD_df.head()"
   ]
  },
  {
   "cell_type": "code",
   "execution_count": 63,
   "id": "ebd1cc37",
   "metadata": {},
   "outputs": [
    {
     "data": {
      "text/plain": [
       "<AxesSubplot:title={'center':'Ethereum stock price'}, xlabel='Date'>"
      ]
     },
     "execution_count": 63,
     "metadata": {},
     "output_type": "execute_result"
    },
    {
     "data": {
      "image/png": "[encoded data removed]",
      "text/plain": [
       "<Figure size 432x288 with 1 Axes>"
      ]
     },
     "metadata": {
      "needs_background": "light"
     },
     "output_type": "display_data"
    }
   ],
   "source": [
    "# plotting a graph\n",
    "ETH_USD_df['Close'].plot(title=\"Ethereum stock price\")\n"
   ]
  },
  {
   "cell_type": "code",
   "execution_count": 64,
   "id": "055b5123",
   "metadata": {},
   "outputs": [
    {
     "data": {
      "text/html": [
       "<div>\n",
       "<style scoped>\n",
       "    .dataframe tbody tr th:only-of-type {\n",
       "        vertical-align: middle;\n",
       "    }\n",
       "\n",
       "    .dataframe tbody tr th {\n",
       "        vertical-align: top;\n",
       "    }\n",
       "\n",
       "    .dataframe thead th {\n",
       "        text-align: right;\n",
       "    }\n",
       "</style>\n",
       "<table border=\"1\" class=\"dataframe\">\n",
       "  <thead>\n",
       "    <tr style=\"text-align: right;\">\n",
       "      <th></th>\n",
       "      <th>Open</th>\n",
       "      <th>High</th>\n",
       "      <th>Low</th>\n",
       "    </tr>\n",
       "    <tr>\n",
       "      <th>Date</th>\n",
       "      <th></th>\n",
       "      <th></th>\n",
       "      <th></th>\n",
       "    </tr>\n",
       "  </thead>\n",
       "  <tbody>\n",
       "    <tr>\n",
       "      <th>2017-11-09</th>\n",
       "      <td>308.644989</td>\n",
       "      <td>329.451996</td>\n",
       "      <td>307.056000</td>\n",
       "    </tr>\n",
       "    <tr>\n",
       "      <th>2017-11-10</th>\n",
       "      <td>320.670990</td>\n",
       "      <td>324.717987</td>\n",
       "      <td>294.541992</td>\n",
       "    </tr>\n",
       "    <tr>\n",
       "      <th>2017-11-11</th>\n",
       "      <td>298.585999</td>\n",
       "      <td>319.453003</td>\n",
       "      <td>298.191986</td>\n",
       "    </tr>\n",
       "    <tr>\n",
       "      <th>2017-11-12</th>\n",
       "      <td>314.690002</td>\n",
       "      <td>319.153015</td>\n",
       "      <td>298.513000</td>\n",
       "    </tr>\n",
       "    <tr>\n",
       "      <th>2017-11-13</th>\n",
       "      <td>307.024994</td>\n",
       "      <td>328.415009</td>\n",
       "      <td>307.024994</td>\n",
       "    </tr>\n",
       "  </tbody>\n",
       "</table>\n",
       "</div>"
      ],
      "text/plain": [
       "                  Open        High         Low\n",
       "Date                                          \n",
       "2017-11-09  308.644989  329.451996  307.056000\n",
       "2017-11-10  320.670990  324.717987  294.541992\n",
       "2017-11-11  298.585999  319.453003  298.191986\n",
       "2017-11-12  314.690002  319.153015  298.513000\n",
       "2017-11-13  307.024994  328.415009  307.024994"
      ]
     },
     "execution_count": 64,
     "metadata": {},
     "output_type": "execute_result"
    }
   ],
   "source": [
    "# Drop Unnecessary columns\n",
    "X5 = ETH_USD_df.copy()\n",
    "X5 = X5.drop(columns=[\"Close\",\"Dividends\",\"Stock Splits\",\"Volume\"], axis=1)\n",
    "X5 = pd.get_dummies(X5)\n",
    "X5.head()"
   ]
  },
  {
   "cell_type": "code",
   "execution_count": 65,
   "id": "e26a38b6",
   "metadata": {},
   "outputs": [
    {
     "data": {
      "text/plain": [
       "array([0.001415, 0.001163, 0.001201, 0.001038, 0.001211])"
      ]
     },
     "execution_count": 65,
     "metadata": {},
     "output_type": "execute_result"
    }
   ],
   "source": [
    "# Define the target set.\n",
    "y5 = ETH_USD_df[\"Close\"].ravel()\n",
    "y[:5]"
   ]
  },
  {
   "cell_type": "code",
   "execution_count": 66,
   "id": "985911e6",
   "metadata": {},
   "outputs": [],
   "source": [
    "# Splitting into Train and Test sets.\n",
    "X5_train, X5_test, y5_train, y5_test = train_test_split(X5, y5, random_state=78)"
   ]
  },
  {
   "cell_type": "code",
   "execution_count": 67,
   "id": "d22ad7d2",
   "metadata": {},
   "outputs": [],
   "source": [
    "# Creating a StandardScaler instance.\n",
    "scalereth = StandardScaler()\n",
    "# Fitting the Standard Scaler with the training data.\n",
    "X5_scalereth = scalereth.fit(X5_train)\n",
    "\n",
    "# Scaling the data.\n",
    "X5_train_scaledeth = X5_scalereth.transform(X5_train)\n",
    "X5_test_scaledeth = X5_scalereth.transform(X5_test)"
   ]
  },
  {
   "cell_type": "code",
   "execution_count": 68,
   "id": "28734fbc",
   "metadata": {},
   "outputs": [
    {
     "data": {
      "text/plain": [
       "array([[-0.08734782, -0.06148942, -0.05595004],\n",
       "       [-0.81768821, -0.82190867, -0.81520285],\n",
       "       [-0.68981218, -0.68906008, -0.68054141],\n",
       "       ...,\n",
       "       [ 0.3718543 ,  0.3630599 ,  0.39209344],\n",
       "       [ 1.00438663,  1.00955831,  1.05519804],\n",
       "       [-0.71301067, -0.720573  , -0.715254  ]])"
      ]
     },
     "execution_count": 68,
     "metadata": {},
     "output_type": "execute_result"
    }
   ],
   "source": [
    "X5_test_scaledeth"
   ]
  },
  {
   "cell_type": "code",
   "execution_count": 69,
   "id": "4955022e",
   "metadata": {},
   "outputs": [
    {
     "data": {
      "text/html": [
       "<div>\n",
       "<style scoped>\n",
       "    .dataframe tbody tr th:only-of-type {\n",
       "        vertical-align: middle;\n",
       "    }\n",
       "\n",
       "    .dataframe tbody tr th {\n",
       "        vertical-align: top;\n",
       "    }\n",
       "\n",
       "    .dataframe thead th {\n",
       "        text-align: right;\n",
       "    }\n",
       "</style>\n",
       "<table border=\"1\" class=\"dataframe\">\n",
       "  <thead>\n",
       "    <tr style=\"text-align: right;\">\n",
       "      <th></th>\n",
       "      <th>Open</th>\n",
       "      <th>High</th>\n",
       "      <th>Low</th>\n",
       "    </tr>\n",
       "  </thead>\n",
       "  <tbody>\n",
       "    <tr>\n",
       "      <th>count</th>\n",
       "      <td>1759.000000</td>\n",
       "      <td>1759.000000</td>\n",
       "      <td>1759.000000</td>\n",
       "    </tr>\n",
       "    <tr>\n",
       "      <th>mean</th>\n",
       "      <td>1114.958063</td>\n",
       "      <td>1151.787971</td>\n",
       "      <td>1073.054686</td>\n",
       "    </tr>\n",
       "    <tr>\n",
       "      <th>std</th>\n",
       "      <td>1226.406169</td>\n",
       "      <td>1264.023931</td>\n",
       "      <td>1182.814646</td>\n",
       "    </tr>\n",
       "    <tr>\n",
       "      <th>min</th>\n",
       "      <td>84.279694</td>\n",
       "      <td>85.342743</td>\n",
       "      <td>82.829887</td>\n",
       "    </tr>\n",
       "    <tr>\n",
       "      <th>25%</th>\n",
       "      <td>205.173996</td>\n",
       "      <td>210.972000</td>\n",
       "      <td>201.109276</td>\n",
       "    </tr>\n",
       "    <tr>\n",
       "      <th>50%</th>\n",
       "      <td>450.678986</td>\n",
       "      <td>467.677826</td>\n",
       "      <td>433.920990</td>\n",
       "    </tr>\n",
       "    <tr>\n",
       "      <th>75%</th>\n",
       "      <td>1833.925293</td>\n",
       "      <td>1875.542969</td>\n",
       "      <td>1770.421631</td>\n",
       "    </tr>\n",
       "    <tr>\n",
       "      <th>max</th>\n",
       "      <td>4810.071289</td>\n",
       "      <td>4891.704590</td>\n",
       "      <td>4718.039062</td>\n",
       "    </tr>\n",
       "  </tbody>\n",
       "</table>\n",
       "</div>"
      ],
      "text/plain": [
       "              Open         High          Low\n",
       "count  1759.000000  1759.000000  1759.000000\n",
       "mean   1114.958063  1151.787971  1073.054686\n",
       "std    1226.406169  1264.023931  1182.814646\n",
       "min      84.279694    85.342743    82.829887\n",
       "25%     205.173996   210.972000   201.109276\n",
       "50%     450.678986   467.677826   433.920990\n",
       "75%    1833.925293  1875.542969  1770.421631\n",
       "max    4810.071289  4891.704590  4718.039062"
      ]
     },
     "execution_count": 69,
     "metadata": {},
     "output_type": "execute_result"
    }
   ],
   "source": [
    "X5.describe()"
   ]
  },
  {
   "cell_type": "code",
   "execution_count": 70,
   "id": "d96affeb",
   "metadata": {},
   "outputs": [
    {
     "data": {
      "text/plain": [
       "RandomForestRegressor(max_depth=2, random_state=78)"
      ]
     },
     "execution_count": 70,
     "metadata": {},
     "output_type": "execute_result"
    }
   ],
   "source": [
    "# Fitting the model\n",
    "regreth = RandomForestRegressor(max_depth=2, random_state=78)\n",
    "regreth.fit(X5_train_scaledeth, y5_train)"
   ]
  },
  {
   "cell_type": "code",
   "execution_count": 71,
   "id": "3525c53f",
   "metadata": {},
   "outputs": [],
   "source": [
    "predictioneth=regreth.predict(X5_test_scaledeth)"
   ]
  },
  {
   "cell_type": "code",
   "execution_count": 72,
   "id": "8d4ebe6c",
   "metadata": {},
   "outputs": [
    {
     "data": {
      "text/plain": [
       "0.9538706849133222"
      ]
     },
     "execution_count": 72,
     "metadata": {},
     "output_type": "execute_result"
    }
   ],
   "source": [
    "regreth.score(X5_test_scaledeth,y5_test)"
   ]
  },
  {
   "cell_type": "code",
   "execution_count": 73,
   "id": "a039855d",
   "metadata": {},
   "outputs": [
    {
     "name": "stderr",
     "output_type": "stream",
     "text": [
      "C:\\Users\\jemnj\\.conda\\envs\\mlenv\\lib\\site-packages\\sklearn\\base.py:442: UserWarning: X does not have valid feature names, but StandardScaler was fitted with feature names\n",
      "  \"X does not have valid feature names, but\"\n"
     ]
    }
   ],
   "source": [
    "value_tochecketh=[308.644989,329.451996, 307.056000]\n",
    "scaledchecketh= X5_scalereth.transform([value_tocheck])"
   ]
  },
  {
   "cell_type": "code",
   "execution_count": 74,
   "id": "f1c3c21b",
   "metadata": {},
   "outputs": [
    {
     "name": "stdout",
     "output_type": "stream",
     "text": [
      "[273.04842365]\n"
     ]
    }
   ],
   "source": [
    "# Making predictions using the testing data.\n",
    "print(regreth.predict(scaledcheck))"
   ]
  },
  {
   "cell_type": "code",
   "execution_count": 75,
   "id": "85ca7380",
   "metadata": {},
   "outputs": [
    {
     "data": {
      "text/plain": [
       "array([0.01721712, 0.32005484, 0.66272804])"
      ]
     },
     "execution_count": 75,
     "metadata": {},
     "output_type": "execute_result"
    }
   ],
   "source": [
    "# Calculate feature importance in the Random Forest model.\n",
    "importanceseth = regreth.feature_importances_\n",
    "importanceseth"
   ]
  },
  {
   "cell_type": "code",
   "execution_count": 76,
   "id": "7694228d",
   "metadata": {},
   "outputs": [
    {
     "data": {
      "text/plain": [
       "Index(['Open', 'High', 'Low'], dtype='object')"
      ]
     },
     "execution_count": 76,
     "metadata": {},
     "output_type": "execute_result"
    }
   ],
   "source": [
    "X5_test.columns"
   ]
  },
  {
   "cell_type": "markdown",
   "id": "aafa6e79",
   "metadata": {},
   "source": [
    "# storing data into mongodb"
   ]
  },
  {
   "cell_type": "code",
   "execution_count": 77,
   "id": "63ce526f",
   "metadata": {},
   "outputs": [
    {
     "name": "stdout",
     "output_type": "stream",
     "text": [
      "Requirement already satisfied: pymongo in c:\\users\\jemnj\\.conda\\envs\\mlenv\\lib\\site-packages (4.2.0)\n",
      "Note: you may need to restart the kernel to use updated packages.\n"
     ]
    }
   ],
   "source": [
    "pip install pymongo"
   ]
  },
  {
   "cell_type": "code",
   "execution_count": 78,
   "id": "0ea855f8",
   "metadata": {},
   "outputs": [],
   "source": [
    "import pymongo\n",
    "import json"
   ]
  },
  {
   "cell_type": "code",
   "execution_count": 79,
   "id": "04c2f770",
   "metadata": {},
   "outputs": [],
   "source": [
    "# database connection\n",
    "client = pymongo.MongoClient(\"mongodb://localhost:27017\")"
   ]
  },
  {
   "cell_type": "code",
   "execution_count": 80,
   "id": "4b765ea6",
   "metadata": {},
   "outputs": [],
   "source": [
    "# Converting DataFrame into dictionary\n",
    "DOGE_df= DOGE_USD_df.to_dict(orient=\"records\")\n",
    "BTC_df= BTC_USD_df.to_dict(orient=\"records\")\n",
    "XRP_df= XRP_USD_df.to_dict(orient=\"records\")\n",
    "USDT_df= USDT_USD_df.to_dict(orient=\"records\")\n",
    "ETH_df= ETH_USD_df.to_dict(orient=\"records\")"
   ]
  },
  {
   "cell_type": "code",
   "execution_count": 81,
   "id": "a2dd9fd7",
   "metadata": {},
   "outputs": [
    {
     "name": "stdout",
     "output_type": "stream",
     "text": [
      "Database(MongoClient(host=['localhost:27017'], document_class=dict, tz_aware=False, connect=True), 'MachineLearning')\n"
     ]
    }
   ],
   "source": [
    "# Creating database name\n",
    "db = client[\"MachineLearning\"]\n",
    "print(db)"
   ]
  },
  {
   "cell_type": "code",
   "execution_count": 82,
   "id": "7bae193b",
   "metadata": {},
   "outputs": [
    {
     "data": {
      "text/plain": [
       "<pymongo.results.InsertManyResult at 0x1eaf9caf548>"
      ]
     },
     "execution_count": 82,
     "metadata": {},
     "output_type": "execute_result"
    }
   ],
   "source": [
    "#  creating table name and inerting data\n",
    "db.DOGE.insert_many(DOGE_df)\n",
    "db.BTC.insert_many(BTC_df)\n",
    "db.XRP.insert_many(XRP_df)\n",
    "db.Tether_USDT.insert_many(USDT_df)\n",
    "db.ETH.insert_many(ETH_df)"
   ]
  },
  {
   "cell_type": "markdown",
   "id": "5f97cba0",
   "metadata": {},
   "source": [
    "# Combining all 5 crypto currencies DataFames in single DataFrame"
   ]
  },
  {
   "cell_type": "markdown",
   "id": "98f3cbf7",
   "metadata": {},
   "source": [
    "# EDA"
   ]
  },
  {
   "cell_type": "code",
   "execution_count": 83,
   "id": "97219066",
   "metadata": {},
   "outputs": [
    {
     "data": {
      "text/html": [
       "<div>\n",
       "<style scoped>\n",
       "    .dataframe tbody tr th:only-of-type {\n",
       "        vertical-align: middle;\n",
       "    }\n",
       "\n",
       "    .dataframe tbody tr th {\n",
       "        vertical-align: top;\n",
       "    }\n",
       "\n",
       "    .dataframe thead th {\n",
       "        text-align: right;\n",
       "    }\n",
       "</style>\n",
       "<table border=\"1\" class=\"dataframe\">\n",
       "  <thead>\n",
       "    <tr style=\"text-align: right;\">\n",
       "      <th></th>\n",
       "      <th>Open</th>\n",
       "      <th>High</th>\n",
       "      <th>Low</th>\n",
       "      <th>Close</th>\n",
       "      <th>Volume</th>\n",
       "      <th>Dividends</th>\n",
       "      <th>Stock Splits</th>\n",
       "    </tr>\n",
       "    <tr>\n",
       "      <th>Date</th>\n",
       "      <th></th>\n",
       "      <th></th>\n",
       "      <th></th>\n",
       "      <th></th>\n",
       "      <th></th>\n",
       "      <th></th>\n",
       "      <th></th>\n",
       "    </tr>\n",
       "  </thead>\n",
       "  <tbody>\n",
       "    <tr>\n",
       "      <th>2017-11-09</th>\n",
       "      <td>0.001207</td>\n",
       "      <td>0.001415</td>\n",
       "      <td>0.001181</td>\n",
       "      <td>0.001415</td>\n",
       "      <td>6259550</td>\n",
       "      <td>0</td>\n",
       "      <td>0</td>\n",
       "    </tr>\n",
       "    <tr>\n",
       "      <th>2017-11-10</th>\n",
       "      <td>0.001421</td>\n",
       "      <td>0.001431</td>\n",
       "      <td>0.001125</td>\n",
       "      <td>0.001163</td>\n",
       "      <td>4246520</td>\n",
       "      <td>0</td>\n",
       "      <td>0</td>\n",
       "    </tr>\n",
       "    <tr>\n",
       "      <th>2017-11-11</th>\n",
       "      <td>0.001146</td>\n",
       "      <td>0.001257</td>\n",
       "      <td>0.001141</td>\n",
       "      <td>0.001201</td>\n",
       "      <td>2231080</td>\n",
       "      <td>0</td>\n",
       "      <td>0</td>\n",
       "    </tr>\n",
       "    <tr>\n",
       "      <th>2017-11-12</th>\n",
       "      <td>0.001189</td>\n",
       "      <td>0.001210</td>\n",
       "      <td>0.001002</td>\n",
       "      <td>0.001038</td>\n",
       "      <td>3288960</td>\n",
       "      <td>0</td>\n",
       "      <td>0</td>\n",
       "    </tr>\n",
       "    <tr>\n",
       "      <th>2017-11-13</th>\n",
       "      <td>0.001046</td>\n",
       "      <td>0.001212</td>\n",
       "      <td>0.001019</td>\n",
       "      <td>0.001211</td>\n",
       "      <td>2481270</td>\n",
       "      <td>0</td>\n",
       "      <td>0</td>\n",
       "    </tr>\n",
       "    <tr>\n",
       "      <th>...</th>\n",
       "      <td>...</td>\n",
       "      <td>...</td>\n",
       "      <td>...</td>\n",
       "      <td>...</td>\n",
       "      <td>...</td>\n",
       "      <td>...</td>\n",
       "      <td>...</td>\n",
       "    </tr>\n",
       "    <tr>\n",
       "      <th>2022-08-29</th>\n",
       "      <td>0.061753</td>\n",
       "      <td>0.063982</td>\n",
       "      <td>0.061246</td>\n",
       "      <td>0.063887</td>\n",
       "      <td>315005254</td>\n",
       "      <td>0</td>\n",
       "      <td>0</td>\n",
       "    </tr>\n",
       "    <tr>\n",
       "      <th>2022-08-30</th>\n",
       "      <td>0.063899</td>\n",
       "      <td>0.064408</td>\n",
       "      <td>0.060550</td>\n",
       "      <td>0.061525</td>\n",
       "      <td>328934727</td>\n",
       "      <td>0</td>\n",
       "      <td>0</td>\n",
       "    </tr>\n",
       "    <tr>\n",
       "      <th>2022-08-31</th>\n",
       "      <td>0.061534</td>\n",
       "      <td>0.063333</td>\n",
       "      <td>0.061058</td>\n",
       "      <td>0.061330</td>\n",
       "      <td>309748693</td>\n",
       "      <td>0</td>\n",
       "      <td>0</td>\n",
       "    </tr>\n",
       "    <tr>\n",
       "      <th>2022-09-01</th>\n",
       "      <td>0.061336</td>\n",
       "      <td>0.062479</td>\n",
       "      <td>0.060194</td>\n",
       "      <td>0.062372</td>\n",
       "      <td>328765413</td>\n",
       "      <td>0</td>\n",
       "      <td>0</td>\n",
       "    </tr>\n",
       "    <tr>\n",
       "      <th>2022-09-02</th>\n",
       "      <td>0.062362</td>\n",
       "      <td>0.062701</td>\n",
       "      <td>0.061351</td>\n",
       "      <td>0.061971</td>\n",
       "      <td>268325776</td>\n",
       "      <td>0</td>\n",
       "      <td>0</td>\n",
       "    </tr>\n",
       "  </tbody>\n",
       "</table>\n",
       "<p>1759 rows × 7 columns</p>\n",
       "</div>"
      ],
      "text/plain": [
       "                Open      High       Low     Close     Volume  Dividends  \\\n",
       "Date                                                                       \n",
       "2017-11-09  0.001207  0.001415  0.001181  0.001415    6259550          0   \n",
       "2017-11-10  0.001421  0.001431  0.001125  0.001163    4246520          0   \n",
       "2017-11-11  0.001146  0.001257  0.001141  0.001201    2231080          0   \n",
       "2017-11-12  0.001189  0.001210  0.001002  0.001038    3288960          0   \n",
       "2017-11-13  0.001046  0.001212  0.001019  0.001211    2481270          0   \n",
       "...              ...       ...       ...       ...        ...        ...   \n",
       "2022-08-29  0.061753  0.063982  0.061246  0.063887  315005254          0   \n",
       "2022-08-30  0.063899  0.064408  0.060550  0.061525  328934727          0   \n",
       "2022-08-31  0.061534  0.063333  0.061058  0.061330  309748693          0   \n",
       "2022-09-01  0.061336  0.062479  0.060194  0.062372  328765413          0   \n",
       "2022-09-02  0.062362  0.062701  0.061351  0.061971  268325776          0   \n",
       "\n",
       "            Stock Splits  \n",
       "Date                      \n",
       "2017-11-09             0  \n",
       "2017-11-10             0  \n",
       "2017-11-11             0  \n",
       "2017-11-12             0  \n",
       "2017-11-13             0  \n",
       "...                  ...  \n",
       "2022-08-29             0  \n",
       "2022-08-30             0  \n",
       "2022-08-31             0  \n",
       "2022-09-01             0  \n",
       "2022-09-02             0  \n",
       "\n",
       "[1759 rows x 7 columns]"
      ]
     },
     "execution_count": 83,
     "metadata": {},
     "output_type": "execute_result"
    }
   ],
   "source": [
    "DOGE_USD_df"
   ]
  },
  {
   "cell_type": "code",
   "execution_count": 84,
   "id": "c6444d68",
   "metadata": {},
   "outputs": [
    {
     "data": {
      "text/html": [
       "<div>\n",
       "<style scoped>\n",
       "    .dataframe tbody tr th:only-of-type {\n",
       "        vertical-align: middle;\n",
       "    }\n",
       "\n",
       "    .dataframe tbody tr th {\n",
       "        vertical-align: top;\n",
       "    }\n",
       "\n",
       "    .dataframe thead th {\n",
       "        text-align: right;\n",
       "    }\n",
       "</style>\n",
       "<table border=\"1\" class=\"dataframe\">\n",
       "  <thead>\n",
       "    <tr style=\"text-align: right;\">\n",
       "      <th></th>\n",
       "      <th>Open</th>\n",
       "      <th>High</th>\n",
       "      <th>Low</th>\n",
       "      <th>Close</th>\n",
       "    </tr>\n",
       "    <tr>\n",
       "      <th>Date</th>\n",
       "      <th></th>\n",
       "      <th></th>\n",
       "      <th></th>\n",
       "      <th></th>\n",
       "    </tr>\n",
       "  </thead>\n",
       "  <tbody>\n",
       "    <tr>\n",
       "      <th>2017-11-09</th>\n",
       "      <td>0.001207</td>\n",
       "      <td>0.001415</td>\n",
       "      <td>0.001181</td>\n",
       "      <td>0.001415</td>\n",
       "    </tr>\n",
       "    <tr>\n",
       "      <th>2017-11-10</th>\n",
       "      <td>0.001421</td>\n",
       "      <td>0.001431</td>\n",
       "      <td>0.001125</td>\n",
       "      <td>0.001163</td>\n",
       "    </tr>\n",
       "    <tr>\n",
       "      <th>2017-11-11</th>\n",
       "      <td>0.001146</td>\n",
       "      <td>0.001257</td>\n",
       "      <td>0.001141</td>\n",
       "      <td>0.001201</td>\n",
       "    </tr>\n",
       "    <tr>\n",
       "      <th>2017-11-12</th>\n",
       "      <td>0.001189</td>\n",
       "      <td>0.001210</td>\n",
       "      <td>0.001002</td>\n",
       "      <td>0.001038</td>\n",
       "    </tr>\n",
       "    <tr>\n",
       "      <th>2017-11-13</th>\n",
       "      <td>0.001046</td>\n",
       "      <td>0.001212</td>\n",
       "      <td>0.001019</td>\n",
       "      <td>0.001211</td>\n",
       "    </tr>\n",
       "    <tr>\n",
       "      <th>...</th>\n",
       "      <td>...</td>\n",
       "      <td>...</td>\n",
       "      <td>...</td>\n",
       "      <td>...</td>\n",
       "    </tr>\n",
       "    <tr>\n",
       "      <th>2022-08-29</th>\n",
       "      <td>0.061753</td>\n",
       "      <td>0.063982</td>\n",
       "      <td>0.061246</td>\n",
       "      <td>0.063887</td>\n",
       "    </tr>\n",
       "    <tr>\n",
       "      <th>2022-08-30</th>\n",
       "      <td>0.063899</td>\n",
       "      <td>0.064408</td>\n",
       "      <td>0.060550</td>\n",
       "      <td>0.061525</td>\n",
       "    </tr>\n",
       "    <tr>\n",
       "      <th>2022-08-31</th>\n",
       "      <td>0.061534</td>\n",
       "      <td>0.063333</td>\n",
       "      <td>0.061058</td>\n",
       "      <td>0.061330</td>\n",
       "    </tr>\n",
       "    <tr>\n",
       "      <th>2022-09-01</th>\n",
       "      <td>0.061336</td>\n",
       "      <td>0.062479</td>\n",
       "      <td>0.060194</td>\n",
       "      <td>0.062372</td>\n",
       "    </tr>\n",
       "    <tr>\n",
       "      <th>2022-09-02</th>\n",
       "      <td>0.062362</td>\n",
       "      <td>0.062701</td>\n",
       "      <td>0.061351</td>\n",
       "      <td>0.061971</td>\n",
       "    </tr>\n",
       "  </tbody>\n",
       "</table>\n",
       "<p>1759 rows × 4 columns</p>\n",
       "</div>"
      ],
      "text/plain": [
       "                Open      High       Low     Close\n",
       "Date                                              \n",
       "2017-11-09  0.001207  0.001415  0.001181  0.001415\n",
       "2017-11-10  0.001421  0.001431  0.001125  0.001163\n",
       "2017-11-11  0.001146  0.001257  0.001141  0.001201\n",
       "2017-11-12  0.001189  0.001210  0.001002  0.001038\n",
       "2017-11-13  0.001046  0.001212  0.001019  0.001211\n",
       "...              ...       ...       ...       ...\n",
       "2022-08-29  0.061753  0.063982  0.061246  0.063887\n",
       "2022-08-30  0.063899  0.064408  0.060550  0.061525\n",
       "2022-08-31  0.061534  0.063333  0.061058  0.061330\n",
       "2022-09-01  0.061336  0.062479  0.060194  0.062372\n",
       "2022-09-02  0.062362  0.062701  0.061351  0.061971\n",
       "\n",
       "[1759 rows x 4 columns]"
      ]
     },
     "execution_count": 84,
     "metadata": {},
     "output_type": "execute_result"
    }
   ],
   "source": [
    "DOGE = DOGE_USD_df.drop(columns=[\"Dividends\",\"Stock Splits\",\"Volume\"], axis=1)\n",
    "DOGE"
   ]
  },
  {
   "cell_type": "code",
   "execution_count": 85,
   "id": "6ba9282f",
   "metadata": {},
   "outputs": [
    {
     "data": {
      "text/html": [
       "<div>\n",
       "<style scoped>\n",
       "    .dataframe tbody tr th:only-of-type {\n",
       "        vertical-align: middle;\n",
       "    }\n",
       "\n",
       "    .dataframe tbody tr th {\n",
       "        vertical-align: top;\n",
       "    }\n",
       "\n",
       "    .dataframe thead th {\n",
       "        text-align: right;\n",
       "    }\n",
       "</style>\n",
       "<table border=\"1\" class=\"dataframe\">\n",
       "  <thead>\n",
       "    <tr style=\"text-align: right;\">\n",
       "      <th></th>\n",
       "      <th>Open</th>\n",
       "      <th>High</th>\n",
       "      <th>Low</th>\n",
       "      <th>Close</th>\n",
       "      <th>Coin Name</th>\n",
       "    </tr>\n",
       "    <tr>\n",
       "      <th>Date</th>\n",
       "      <th></th>\n",
       "      <th></th>\n",
       "      <th></th>\n",
       "      <th></th>\n",
       "      <th></th>\n",
       "    </tr>\n",
       "  </thead>\n",
       "  <tbody>\n",
       "    <tr>\n",
       "      <th>2017-11-09</th>\n",
       "      <td>0.001207</td>\n",
       "      <td>0.001415</td>\n",
       "      <td>0.001181</td>\n",
       "      <td>0.001415</td>\n",
       "      <td>DOGE</td>\n",
       "    </tr>\n",
       "    <tr>\n",
       "      <th>2017-11-10</th>\n",
       "      <td>0.001421</td>\n",
       "      <td>0.001431</td>\n",
       "      <td>0.001125</td>\n",
       "      <td>0.001163</td>\n",
       "      <td>DOGE</td>\n",
       "    </tr>\n",
       "    <tr>\n",
       "      <th>2017-11-11</th>\n",
       "      <td>0.001146</td>\n",
       "      <td>0.001257</td>\n",
       "      <td>0.001141</td>\n",
       "      <td>0.001201</td>\n",
       "      <td>DOGE</td>\n",
       "    </tr>\n",
       "    <tr>\n",
       "      <th>2017-11-12</th>\n",
       "      <td>0.001189</td>\n",
       "      <td>0.001210</td>\n",
       "      <td>0.001002</td>\n",
       "      <td>0.001038</td>\n",
       "      <td>DOGE</td>\n",
       "    </tr>\n",
       "    <tr>\n",
       "      <th>2017-11-13</th>\n",
       "      <td>0.001046</td>\n",
       "      <td>0.001212</td>\n",
       "      <td>0.001019</td>\n",
       "      <td>0.001211</td>\n",
       "      <td>DOGE</td>\n",
       "    </tr>\n",
       "    <tr>\n",
       "      <th>...</th>\n",
       "      <td>...</td>\n",
       "      <td>...</td>\n",
       "      <td>...</td>\n",
       "      <td>...</td>\n",
       "      <td>...</td>\n",
       "    </tr>\n",
       "    <tr>\n",
       "      <th>2022-08-29</th>\n",
       "      <td>0.061753</td>\n",
       "      <td>0.063982</td>\n",
       "      <td>0.061246</td>\n",
       "      <td>0.063887</td>\n",
       "      <td>DOGE</td>\n",
       "    </tr>\n",
       "    <tr>\n",
       "      <th>2022-08-30</th>\n",
       "      <td>0.063899</td>\n",
       "      <td>0.064408</td>\n",
       "      <td>0.060550</td>\n",
       "      <td>0.061525</td>\n",
       "      <td>DOGE</td>\n",
       "    </tr>\n",
       "    <tr>\n",
       "      <th>2022-08-31</th>\n",
       "      <td>0.061534</td>\n",
       "      <td>0.063333</td>\n",
       "      <td>0.061058</td>\n",
       "      <td>0.061330</td>\n",
       "      <td>DOGE</td>\n",
       "    </tr>\n",
       "    <tr>\n",
       "      <th>2022-09-01</th>\n",
       "      <td>0.061336</td>\n",
       "      <td>0.062479</td>\n",
       "      <td>0.060194</td>\n",
       "      <td>0.062372</td>\n",
       "      <td>DOGE</td>\n",
       "    </tr>\n",
       "    <tr>\n",
       "      <th>2022-09-02</th>\n",
       "      <td>0.062362</td>\n",
       "      <td>0.062701</td>\n",
       "      <td>0.061351</td>\n",
       "      <td>0.061971</td>\n",
       "      <td>DOGE</td>\n",
       "    </tr>\n",
       "  </tbody>\n",
       "</table>\n",
       "<p>1759 rows × 5 columns</p>\n",
       "</div>"
      ],
      "text/plain": [
       "                Open      High       Low     Close Coin Name\n",
       "Date                                                        \n",
       "2017-11-09  0.001207  0.001415  0.001181  0.001415      DOGE\n",
       "2017-11-10  0.001421  0.001431  0.001125  0.001163      DOGE\n",
       "2017-11-11  0.001146  0.001257  0.001141  0.001201      DOGE\n",
       "2017-11-12  0.001189  0.001210  0.001002  0.001038      DOGE\n",
       "2017-11-13  0.001046  0.001212  0.001019  0.001211      DOGE\n",
       "...              ...       ...       ...       ...       ...\n",
       "2022-08-29  0.061753  0.063982  0.061246  0.063887      DOGE\n",
       "2022-08-30  0.063899  0.064408  0.060550  0.061525      DOGE\n",
       "2022-08-31  0.061534  0.063333  0.061058  0.061330      DOGE\n",
       "2022-09-01  0.061336  0.062479  0.060194  0.062372      DOGE\n",
       "2022-09-02  0.062362  0.062701  0.061351  0.061971      DOGE\n",
       "\n",
       "[1759 rows x 5 columns]"
      ]
     },
     "execution_count": 85,
     "metadata": {},
     "output_type": "execute_result"
    }
   ],
   "source": [
    "dogetest=DOGE.copy()\n",
    "dogetest[\"Coin Name\"]=\"DOGE\"\n",
    "dogetest"
   ]
  },
  {
   "cell_type": "code",
   "execution_count": 86,
   "id": "cb897070",
   "metadata": {},
   "outputs": [
    {
     "data": {
      "text/html": [
       "<div>\n",
       "<style scoped>\n",
       "    .dataframe tbody tr th:only-of-type {\n",
       "        vertical-align: middle;\n",
       "    }\n",
       "\n",
       "    .dataframe tbody tr th {\n",
       "        vertical-align: top;\n",
       "    }\n",
       "\n",
       "    .dataframe thead th {\n",
       "        text-align: right;\n",
       "    }\n",
       "</style>\n",
       "<table border=\"1\" class=\"dataframe\">\n",
       "  <thead>\n",
       "    <tr style=\"text-align: right;\">\n",
       "      <th></th>\n",
       "      <th>Open</th>\n",
       "      <th>High</th>\n",
       "      <th>Low</th>\n",
       "      <th>Close</th>\n",
       "      <th>Volume</th>\n",
       "      <th>Dividends</th>\n",
       "      <th>Stock Splits</th>\n",
       "    </tr>\n",
       "    <tr>\n",
       "      <th>Date</th>\n",
       "      <th></th>\n",
       "      <th></th>\n",
       "      <th></th>\n",
       "      <th></th>\n",
       "      <th></th>\n",
       "      <th></th>\n",
       "      <th></th>\n",
       "    </tr>\n",
       "  </thead>\n",
       "  <tbody>\n",
       "    <tr>\n",
       "      <th>2017-09-02</th>\n",
       "      <td>4901.419922</td>\n",
       "      <td>4975.040039</td>\n",
       "      <td>4469.240234</td>\n",
       "      <td>4578.770020</td>\n",
       "      <td>2722139904</td>\n",
       "      <td>0</td>\n",
       "      <td>0</td>\n",
       "    </tr>\n",
       "    <tr>\n",
       "      <th>2017-09-03</th>\n",
       "      <td>4585.270020</td>\n",
       "      <td>4714.080078</td>\n",
       "      <td>4417.589844</td>\n",
       "      <td>4582.959961</td>\n",
       "      <td>1933190016</td>\n",
       "      <td>0</td>\n",
       "      <td>0</td>\n",
       "    </tr>\n",
       "    <tr>\n",
       "      <th>2017-09-04</th>\n",
       "      <td>4591.629883</td>\n",
       "      <td>4591.629883</td>\n",
       "      <td>4108.399902</td>\n",
       "      <td>4236.310059</td>\n",
       "      <td>2987330048</td>\n",
       "      <td>0</td>\n",
       "      <td>0</td>\n",
       "    </tr>\n",
       "    <tr>\n",
       "      <th>2017-09-05</th>\n",
       "      <td>4228.290039</td>\n",
       "      <td>4427.839844</td>\n",
       "      <td>3998.110107</td>\n",
       "      <td>4376.529785</td>\n",
       "      <td>2697969920</td>\n",
       "      <td>0</td>\n",
       "      <td>0</td>\n",
       "    </tr>\n",
       "    <tr>\n",
       "      <th>2017-09-06</th>\n",
       "      <td>4376.589844</td>\n",
       "      <td>4617.250000</td>\n",
       "      <td>4376.589844</td>\n",
       "      <td>4597.120117</td>\n",
       "      <td>2172100096</td>\n",
       "      <td>0</td>\n",
       "      <td>0</td>\n",
       "    </tr>\n",
       "  </tbody>\n",
       "</table>\n",
       "</div>"
      ],
      "text/plain": [
       "                   Open         High          Low        Close      Volume  \\\n",
       "Date                                                                         \n",
       "2017-09-02  4901.419922  4975.040039  4469.240234  4578.770020  2722139904   \n",
       "2017-09-03  4585.270020  4714.080078  4417.589844  4582.959961  1933190016   \n",
       "2017-09-04  4591.629883  4591.629883  4108.399902  4236.310059  2987330048   \n",
       "2017-09-05  4228.290039  4427.839844  3998.110107  4376.529785  2697969920   \n",
       "2017-09-06  4376.589844  4617.250000  4376.589844  4597.120117  2172100096   \n",
       "\n",
       "            Dividends  Stock Splits  \n",
       "Date                                 \n",
       "2017-09-02          0             0  \n",
       "2017-09-03          0             0  \n",
       "2017-09-04          0             0  \n",
       "2017-09-05          0             0  \n",
       "2017-09-06          0             0  "
      ]
     },
     "execution_count": 86,
     "metadata": {},
     "output_type": "execute_result"
    }
   ],
   "source": [
    "BTC_USD_df.head()"
   ]
  },
  {
   "cell_type": "code",
   "execution_count": 87,
   "id": "c44036cc",
   "metadata": {},
   "outputs": [
    {
     "data": {
      "text/html": [
       "<div>\n",
       "<style scoped>\n",
       "    .dataframe tbody tr th:only-of-type {\n",
       "        vertical-align: middle;\n",
       "    }\n",
       "\n",
       "    .dataframe tbody tr th {\n",
       "        vertical-align: top;\n",
       "    }\n",
       "\n",
       "    .dataframe thead th {\n",
       "        text-align: right;\n",
       "    }\n",
       "</style>\n",
       "<table border=\"1\" class=\"dataframe\">\n",
       "  <thead>\n",
       "    <tr style=\"text-align: right;\">\n",
       "      <th></th>\n",
       "      <th>Open</th>\n",
       "      <th>High</th>\n",
       "      <th>Low</th>\n",
       "      <th>Close</th>\n",
       "    </tr>\n",
       "    <tr>\n",
       "      <th>Date</th>\n",
       "      <th></th>\n",
       "      <th></th>\n",
       "      <th></th>\n",
       "      <th></th>\n",
       "    </tr>\n",
       "  </thead>\n",
       "  <tbody>\n",
       "    <tr>\n",
       "      <th>2017-09-02</th>\n",
       "      <td>4901.419922</td>\n",
       "      <td>4975.040039</td>\n",
       "      <td>4469.240234</td>\n",
       "      <td>4578.770020</td>\n",
       "    </tr>\n",
       "    <tr>\n",
       "      <th>2017-09-03</th>\n",
       "      <td>4585.270020</td>\n",
       "      <td>4714.080078</td>\n",
       "      <td>4417.589844</td>\n",
       "      <td>4582.959961</td>\n",
       "    </tr>\n",
       "    <tr>\n",
       "      <th>2017-09-04</th>\n",
       "      <td>4591.629883</td>\n",
       "      <td>4591.629883</td>\n",
       "      <td>4108.399902</td>\n",
       "      <td>4236.310059</td>\n",
       "    </tr>\n",
       "    <tr>\n",
       "      <th>2017-09-05</th>\n",
       "      <td>4228.290039</td>\n",
       "      <td>4427.839844</td>\n",
       "      <td>3998.110107</td>\n",
       "      <td>4376.529785</td>\n",
       "    </tr>\n",
       "    <tr>\n",
       "      <th>2017-09-06</th>\n",
       "      <td>4376.589844</td>\n",
       "      <td>4617.250000</td>\n",
       "      <td>4376.589844</td>\n",
       "      <td>4597.120117</td>\n",
       "    </tr>\n",
       "    <tr>\n",
       "      <th>...</th>\n",
       "      <td>...</td>\n",
       "      <td>...</td>\n",
       "      <td>...</td>\n",
       "      <td>...</td>\n",
       "    </tr>\n",
       "    <tr>\n",
       "      <th>2022-08-29</th>\n",
       "      <td>19615.154297</td>\n",
       "      <td>20357.462891</td>\n",
       "      <td>19600.785156</td>\n",
       "      <td>20297.994141</td>\n",
       "    </tr>\n",
       "    <tr>\n",
       "      <th>2022-08-30</th>\n",
       "      <td>20298.611328</td>\n",
       "      <td>20542.644531</td>\n",
       "      <td>19617.640625</td>\n",
       "      <td>19796.808594</td>\n",
       "    </tr>\n",
       "    <tr>\n",
       "      <th>2022-08-31</th>\n",
       "      <td>19799.582031</td>\n",
       "      <td>20420.990234</td>\n",
       "      <td>19799.582031</td>\n",
       "      <td>20049.763672</td>\n",
       "    </tr>\n",
       "    <tr>\n",
       "      <th>2022-09-01</th>\n",
       "      <td>20050.498047</td>\n",
       "      <td>20198.390625</td>\n",
       "      <td>19653.968750</td>\n",
       "      <td>20127.140625</td>\n",
       "    </tr>\n",
       "    <tr>\n",
       "      <th>2022-09-02</th>\n",
       "      <td>20108.171875</td>\n",
       "      <td>20401.568359</td>\n",
       "      <td>19985.148438</td>\n",
       "      <td>20113.460938</td>\n",
       "    </tr>\n",
       "  </tbody>\n",
       "</table>\n",
       "<p>1827 rows × 4 columns</p>\n",
       "</div>"
      ],
      "text/plain": [
       "                    Open          High           Low         Close\n",
       "Date                                                              \n",
       "2017-09-02   4901.419922   4975.040039   4469.240234   4578.770020\n",
       "2017-09-03   4585.270020   4714.080078   4417.589844   4582.959961\n",
       "2017-09-04   4591.629883   4591.629883   4108.399902   4236.310059\n",
       "2017-09-05   4228.290039   4427.839844   3998.110107   4376.529785\n",
       "2017-09-06   4376.589844   4617.250000   4376.589844   4597.120117\n",
       "...                  ...           ...           ...           ...\n",
       "2022-08-29  19615.154297  20357.462891  19600.785156  20297.994141\n",
       "2022-08-30  20298.611328  20542.644531  19617.640625  19796.808594\n",
       "2022-08-31  19799.582031  20420.990234  19799.582031  20049.763672\n",
       "2022-09-01  20050.498047  20198.390625  19653.968750  20127.140625\n",
       "2022-09-02  20108.171875  20401.568359  19985.148438  20113.460938\n",
       "\n",
       "[1827 rows x 4 columns]"
      ]
     },
     "execution_count": 87,
     "metadata": {},
     "output_type": "execute_result"
    }
   ],
   "source": [
    "BTC= BTC_USD_df.drop(columns=[\"Dividends\",\"Stock Splits\",\"Volume\"], axis=1)\n",
    "BTC"
   ]
  },
  {
   "cell_type": "code",
   "execution_count": 88,
   "id": "f3d54d40",
   "metadata": {},
   "outputs": [
    {
     "data": {
      "text/html": [
       "<div>\n",
       "<style scoped>\n",
       "    .dataframe tbody tr th:only-of-type {\n",
       "        vertical-align: middle;\n",
       "    }\n",
       "\n",
       "    .dataframe tbody tr th {\n",
       "        vertical-align: top;\n",
       "    }\n",
       "\n",
       "    .dataframe thead th {\n",
       "        text-align: right;\n",
       "    }\n",
       "</style>\n",
       "<table border=\"1\" class=\"dataframe\">\n",
       "  <thead>\n",
       "    <tr style=\"text-align: right;\">\n",
       "      <th></th>\n",
       "      <th>Open</th>\n",
       "      <th>High</th>\n",
       "      <th>Low</th>\n",
       "      <th>Close</th>\n",
       "      <th>Coin Name</th>\n",
       "    </tr>\n",
       "    <tr>\n",
       "      <th>Date</th>\n",
       "      <th></th>\n",
       "      <th></th>\n",
       "      <th></th>\n",
       "      <th></th>\n",
       "      <th></th>\n",
       "    </tr>\n",
       "  </thead>\n",
       "  <tbody>\n",
       "    <tr>\n",
       "      <th>2017-09-02</th>\n",
       "      <td>4901.419922</td>\n",
       "      <td>4975.040039</td>\n",
       "      <td>4469.240234</td>\n",
       "      <td>4578.770020</td>\n",
       "      <td>BTC</td>\n",
       "    </tr>\n",
       "    <tr>\n",
       "      <th>2017-09-03</th>\n",
       "      <td>4585.270020</td>\n",
       "      <td>4714.080078</td>\n",
       "      <td>4417.589844</td>\n",
       "      <td>4582.959961</td>\n",
       "      <td>BTC</td>\n",
       "    </tr>\n",
       "    <tr>\n",
       "      <th>2017-09-04</th>\n",
       "      <td>4591.629883</td>\n",
       "      <td>4591.629883</td>\n",
       "      <td>4108.399902</td>\n",
       "      <td>4236.310059</td>\n",
       "      <td>BTC</td>\n",
       "    </tr>\n",
       "    <tr>\n",
       "      <th>2017-09-05</th>\n",
       "      <td>4228.290039</td>\n",
       "      <td>4427.839844</td>\n",
       "      <td>3998.110107</td>\n",
       "      <td>4376.529785</td>\n",
       "      <td>BTC</td>\n",
       "    </tr>\n",
       "    <tr>\n",
       "      <th>2017-09-06</th>\n",
       "      <td>4376.589844</td>\n",
       "      <td>4617.250000</td>\n",
       "      <td>4376.589844</td>\n",
       "      <td>4597.120117</td>\n",
       "      <td>BTC</td>\n",
       "    </tr>\n",
       "    <tr>\n",
       "      <th>...</th>\n",
       "      <td>...</td>\n",
       "      <td>...</td>\n",
       "      <td>...</td>\n",
       "      <td>...</td>\n",
       "      <td>...</td>\n",
       "    </tr>\n",
       "    <tr>\n",
       "      <th>2022-08-29</th>\n",
       "      <td>19615.154297</td>\n",
       "      <td>20357.462891</td>\n",
       "      <td>19600.785156</td>\n",
       "      <td>20297.994141</td>\n",
       "      <td>BTC</td>\n",
       "    </tr>\n",
       "    <tr>\n",
       "      <th>2022-08-30</th>\n",
       "      <td>20298.611328</td>\n",
       "      <td>20542.644531</td>\n",
       "      <td>19617.640625</td>\n",
       "      <td>19796.808594</td>\n",
       "      <td>BTC</td>\n",
       "    </tr>\n",
       "    <tr>\n",
       "      <th>2022-08-31</th>\n",
       "      <td>19799.582031</td>\n",
       "      <td>20420.990234</td>\n",
       "      <td>19799.582031</td>\n",
       "      <td>20049.763672</td>\n",
       "      <td>BTC</td>\n",
       "    </tr>\n",
       "    <tr>\n",
       "      <th>2022-09-01</th>\n",
       "      <td>20050.498047</td>\n",
       "      <td>20198.390625</td>\n",
       "      <td>19653.968750</td>\n",
       "      <td>20127.140625</td>\n",
       "      <td>BTC</td>\n",
       "    </tr>\n",
       "    <tr>\n",
       "      <th>2022-09-02</th>\n",
       "      <td>20108.171875</td>\n",
       "      <td>20401.568359</td>\n",
       "      <td>19985.148438</td>\n",
       "      <td>20113.460938</td>\n",
       "      <td>BTC</td>\n",
       "    </tr>\n",
       "  </tbody>\n",
       "</table>\n",
       "<p>1827 rows × 5 columns</p>\n",
       "</div>"
      ],
      "text/plain": [
       "                    Open          High           Low         Close Coin Name\n",
       "Date                                                                        \n",
       "2017-09-02   4901.419922   4975.040039   4469.240234   4578.770020       BTC\n",
       "2017-09-03   4585.270020   4714.080078   4417.589844   4582.959961       BTC\n",
       "2017-09-04   4591.629883   4591.629883   4108.399902   4236.310059       BTC\n",
       "2017-09-05   4228.290039   4427.839844   3998.110107   4376.529785       BTC\n",
       "2017-09-06   4376.589844   4617.250000   4376.589844   4597.120117       BTC\n",
       "...                  ...           ...           ...           ...       ...\n",
       "2022-08-29  19615.154297  20357.462891  19600.785156  20297.994141       BTC\n",
       "2022-08-30  20298.611328  20542.644531  19617.640625  19796.808594       BTC\n",
       "2022-08-31  19799.582031  20420.990234  19799.582031  20049.763672       BTC\n",
       "2022-09-01  20050.498047  20198.390625  19653.968750  20127.140625       BTC\n",
       "2022-09-02  20108.171875  20401.568359  19985.148438  20113.460938       BTC\n",
       "\n",
       "[1827 rows x 5 columns]"
      ]
     },
     "execution_count": 88,
     "metadata": {},
     "output_type": "execute_result"
    }
   ],
   "source": [
    "BTCtest=BTC.copy()\n",
    "BTCtest[\"Coin Name\"]=\"BTC\"\n",
    "BTCtest"
   ]
  },
  {
   "cell_type": "code",
   "execution_count": 89,
   "id": "342b2368",
   "metadata": {},
   "outputs": [
    {
     "data": {
      "text/html": [
       "<div>\n",
       "<style scoped>\n",
       "    .dataframe tbody tr th:only-of-type {\n",
       "        vertical-align: middle;\n",
       "    }\n",
       "\n",
       "    .dataframe tbody tr th {\n",
       "        vertical-align: top;\n",
       "    }\n",
       "\n",
       "    .dataframe thead th {\n",
       "        text-align: right;\n",
       "    }\n",
       "</style>\n",
       "<table border=\"1\" class=\"dataframe\">\n",
       "  <thead>\n",
       "    <tr style=\"text-align: right;\">\n",
       "      <th></th>\n",
       "      <th>Open</th>\n",
       "      <th>High</th>\n",
       "      <th>Low</th>\n",
       "      <th>Close</th>\n",
       "    </tr>\n",
       "    <tr>\n",
       "      <th>Date</th>\n",
       "      <th></th>\n",
       "      <th></th>\n",
       "      <th></th>\n",
       "      <th></th>\n",
       "    </tr>\n",
       "  </thead>\n",
       "  <tbody>\n",
       "    <tr>\n",
       "      <th>2017-11-09</th>\n",
       "      <td>0.217911</td>\n",
       "      <td>0.221791</td>\n",
       "      <td>0.214866</td>\n",
       "      <td>0.217488</td>\n",
       "    </tr>\n",
       "    <tr>\n",
       "      <th>2017-11-10</th>\n",
       "      <td>0.218256</td>\n",
       "      <td>0.219068</td>\n",
       "      <td>0.205260</td>\n",
       "      <td>0.206483</td>\n",
       "    </tr>\n",
       "    <tr>\n",
       "      <th>2017-11-11</th>\n",
       "      <td>0.205948</td>\n",
       "      <td>0.214456</td>\n",
       "      <td>0.205459</td>\n",
       "      <td>0.210430</td>\n",
       "    </tr>\n",
       "    <tr>\n",
       "      <th>2017-11-12</th>\n",
       "      <td>0.210214</td>\n",
       "      <td>0.210214</td>\n",
       "      <td>0.195389</td>\n",
       "      <td>0.197339</td>\n",
       "    </tr>\n",
       "    <tr>\n",
       "      <th>2017-11-13</th>\n",
       "      <td>0.197472</td>\n",
       "      <td>0.204081</td>\n",
       "      <td>0.197456</td>\n",
       "      <td>0.203442</td>\n",
       "    </tr>\n",
       "    <tr>\n",
       "      <th>...</th>\n",
       "      <td>...</td>\n",
       "      <td>...</td>\n",
       "      <td>...</td>\n",
       "      <td>...</td>\n",
       "    </tr>\n",
       "    <tr>\n",
       "      <th>2022-08-29</th>\n",
       "      <td>0.323055</td>\n",
       "      <td>0.333797</td>\n",
       "      <td>0.319392</td>\n",
       "      <td>0.333797</td>\n",
       "    </tr>\n",
       "    <tr>\n",
       "      <th>2022-08-30</th>\n",
       "      <td>0.333779</td>\n",
       "      <td>0.335482</td>\n",
       "      <td>0.321105</td>\n",
       "      <td>0.326869</td>\n",
       "    </tr>\n",
       "    <tr>\n",
       "      <th>2022-08-31</th>\n",
       "      <td>0.326887</td>\n",
       "      <td>0.333613</td>\n",
       "      <td>0.324885</td>\n",
       "      <td>0.327870</td>\n",
       "    </tr>\n",
       "    <tr>\n",
       "      <th>2022-09-01</th>\n",
       "      <td>0.327867</td>\n",
       "      <td>0.333194</td>\n",
       "      <td>0.322368</td>\n",
       "      <td>0.333194</td>\n",
       "    </tr>\n",
       "    <tr>\n",
       "      <th>2022-09-02</th>\n",
       "      <td>0.333195</td>\n",
       "      <td>0.334934</td>\n",
       "      <td>0.327401</td>\n",
       "      <td>0.327412</td>\n",
       "    </tr>\n",
       "  </tbody>\n",
       "</table>\n",
       "<p>1759 rows × 4 columns</p>\n",
       "</div>"
      ],
      "text/plain": [
       "                Open      High       Low     Close\n",
       "Date                                              \n",
       "2017-11-09  0.217911  0.221791  0.214866  0.217488\n",
       "2017-11-10  0.218256  0.219068  0.205260  0.206483\n",
       "2017-11-11  0.205948  0.214456  0.205459  0.210430\n",
       "2017-11-12  0.210214  0.210214  0.195389  0.197339\n",
       "2017-11-13  0.197472  0.204081  0.197456  0.203442\n",
       "...              ...       ...       ...       ...\n",
       "2022-08-29  0.323055  0.333797  0.319392  0.333797\n",
       "2022-08-30  0.333779  0.335482  0.321105  0.326869\n",
       "2022-08-31  0.326887  0.333613  0.324885  0.327870\n",
       "2022-09-01  0.327867  0.333194  0.322368  0.333194\n",
       "2022-09-02  0.333195  0.334934  0.327401  0.327412\n",
       "\n",
       "[1759 rows x 4 columns]"
      ]
     },
     "execution_count": 89,
     "metadata": {},
     "output_type": "execute_result"
    }
   ],
   "source": [
    "XRP =XRP_USD_df.drop(columns=[\"Dividends\",\"Stock Splits\",\"Volume\"], axis=1)\n",
    "XRP"
   ]
  },
  {
   "cell_type": "code",
   "execution_count": 90,
   "id": "fd3a08e4",
   "metadata": {},
   "outputs": [
    {
     "data": {
      "text/html": [
       "<div>\n",
       "<style scoped>\n",
       "    .dataframe tbody tr th:only-of-type {\n",
       "        vertical-align: middle;\n",
       "    }\n",
       "\n",
       "    .dataframe tbody tr th {\n",
       "        vertical-align: top;\n",
       "    }\n",
       "\n",
       "    .dataframe thead th {\n",
       "        text-align: right;\n",
       "    }\n",
       "</style>\n",
       "<table border=\"1\" class=\"dataframe\">\n",
       "  <thead>\n",
       "    <tr style=\"text-align: right;\">\n",
       "      <th></th>\n",
       "      <th>Open</th>\n",
       "      <th>High</th>\n",
       "      <th>Low</th>\n",
       "      <th>Close</th>\n",
       "      <th>Coin Name</th>\n",
       "    </tr>\n",
       "    <tr>\n",
       "      <th>Date</th>\n",
       "      <th></th>\n",
       "      <th></th>\n",
       "      <th></th>\n",
       "      <th></th>\n",
       "      <th></th>\n",
       "    </tr>\n",
       "  </thead>\n",
       "  <tbody>\n",
       "    <tr>\n",
       "      <th>2017-11-09</th>\n",
       "      <td>0.217911</td>\n",
       "      <td>0.221791</td>\n",
       "      <td>0.214866</td>\n",
       "      <td>0.217488</td>\n",
       "      <td>XRP</td>\n",
       "    </tr>\n",
       "    <tr>\n",
       "      <th>2017-11-10</th>\n",
       "      <td>0.218256</td>\n",
       "      <td>0.219068</td>\n",
       "      <td>0.205260</td>\n",
       "      <td>0.206483</td>\n",
       "      <td>XRP</td>\n",
       "    </tr>\n",
       "    <tr>\n",
       "      <th>2017-11-11</th>\n",
       "      <td>0.205948</td>\n",
       "      <td>0.214456</td>\n",
       "      <td>0.205459</td>\n",
       "      <td>0.210430</td>\n",
       "      <td>XRP</td>\n",
       "    </tr>\n",
       "    <tr>\n",
       "      <th>2017-11-12</th>\n",
       "      <td>0.210214</td>\n",
       "      <td>0.210214</td>\n",
       "      <td>0.195389</td>\n",
       "      <td>0.197339</td>\n",
       "      <td>XRP</td>\n",
       "    </tr>\n",
       "    <tr>\n",
       "      <th>2017-11-13</th>\n",
       "      <td>0.197472</td>\n",
       "      <td>0.204081</td>\n",
       "      <td>0.197456</td>\n",
       "      <td>0.203442</td>\n",
       "      <td>XRP</td>\n",
       "    </tr>\n",
       "    <tr>\n",
       "      <th>...</th>\n",
       "      <td>...</td>\n",
       "      <td>...</td>\n",
       "      <td>...</td>\n",
       "      <td>...</td>\n",
       "      <td>...</td>\n",
       "    </tr>\n",
       "    <tr>\n",
       "      <th>2022-08-29</th>\n",
       "      <td>0.323055</td>\n",
       "      <td>0.333797</td>\n",
       "      <td>0.319392</td>\n",
       "      <td>0.333797</td>\n",
       "      <td>XRP</td>\n",
       "    </tr>\n",
       "    <tr>\n",
       "      <th>2022-08-30</th>\n",
       "      <td>0.333779</td>\n",
       "      <td>0.335482</td>\n",
       "      <td>0.321105</td>\n",
       "      <td>0.326869</td>\n",
       "      <td>XRP</td>\n",
       "    </tr>\n",
       "    <tr>\n",
       "      <th>2022-08-31</th>\n",
       "      <td>0.326887</td>\n",
       "      <td>0.333613</td>\n",
       "      <td>0.324885</td>\n",
       "      <td>0.327870</td>\n",
       "      <td>XRP</td>\n",
       "    </tr>\n",
       "    <tr>\n",
       "      <th>2022-09-01</th>\n",
       "      <td>0.327867</td>\n",
       "      <td>0.333194</td>\n",
       "      <td>0.322368</td>\n",
       "      <td>0.333194</td>\n",
       "      <td>XRP</td>\n",
       "    </tr>\n",
       "    <tr>\n",
       "      <th>2022-09-02</th>\n",
       "      <td>0.333195</td>\n",
       "      <td>0.334934</td>\n",
       "      <td>0.327401</td>\n",
       "      <td>0.327412</td>\n",
       "      <td>XRP</td>\n",
       "    </tr>\n",
       "  </tbody>\n",
       "</table>\n",
       "<p>1759 rows × 5 columns</p>\n",
       "</div>"
      ],
      "text/plain": [
       "                Open      High       Low     Close Coin Name\n",
       "Date                                                        \n",
       "2017-11-09  0.217911  0.221791  0.214866  0.217488       XRP\n",
       "2017-11-10  0.218256  0.219068  0.205260  0.206483       XRP\n",
       "2017-11-11  0.205948  0.214456  0.205459  0.210430       XRP\n",
       "2017-11-12  0.210214  0.210214  0.195389  0.197339       XRP\n",
       "2017-11-13  0.197472  0.204081  0.197456  0.203442       XRP\n",
       "...              ...       ...       ...       ...       ...\n",
       "2022-08-29  0.323055  0.333797  0.319392  0.333797       XRP\n",
       "2022-08-30  0.333779  0.335482  0.321105  0.326869       XRP\n",
       "2022-08-31  0.326887  0.333613  0.324885  0.327870       XRP\n",
       "2022-09-01  0.327867  0.333194  0.322368  0.333194       XRP\n",
       "2022-09-02  0.333195  0.334934  0.327401  0.327412       XRP\n",
       "\n",
       "[1759 rows x 5 columns]"
      ]
     },
     "execution_count": 90,
     "metadata": {},
     "output_type": "execute_result"
    }
   ],
   "source": [
    "XRPtest=XRP.copy()\n",
    "XRPtest[\"Coin Name\"]=\"XRP\"\n",
    "XRPtest"
   ]
  },
  {
   "cell_type": "code",
   "execution_count": 91,
   "id": "a28dabf8",
   "metadata": {},
   "outputs": [
    {
     "data": {
      "text/html": [
       "<div>\n",
       "<style scoped>\n",
       "    .dataframe tbody tr th:only-of-type {\n",
       "        vertical-align: middle;\n",
       "    }\n",
       "\n",
       "    .dataframe tbody tr th {\n",
       "        vertical-align: top;\n",
       "    }\n",
       "\n",
       "    .dataframe thead th {\n",
       "        text-align: right;\n",
       "    }\n",
       "</style>\n",
       "<table border=\"1\" class=\"dataframe\">\n",
       "  <thead>\n",
       "    <tr style=\"text-align: right;\">\n",
       "      <th></th>\n",
       "      <th>Open</th>\n",
       "      <th>High</th>\n",
       "      <th>Low</th>\n",
       "      <th>Close</th>\n",
       "    </tr>\n",
       "    <tr>\n",
       "      <th>Date</th>\n",
       "      <th></th>\n",
       "      <th></th>\n",
       "      <th></th>\n",
       "      <th></th>\n",
       "    </tr>\n",
       "  </thead>\n",
       "  <tbody>\n",
       "    <tr>\n",
       "      <th>2017-11-09</th>\n",
       "      <td>1.010870</td>\n",
       "      <td>1.013270</td>\n",
       "      <td>0.996515</td>\n",
       "      <td>1.008180</td>\n",
       "    </tr>\n",
       "    <tr>\n",
       "      <th>2017-11-10</th>\n",
       "      <td>1.006500</td>\n",
       "      <td>1.024230</td>\n",
       "      <td>0.995486</td>\n",
       "      <td>1.006010</td>\n",
       "    </tr>\n",
       "    <tr>\n",
       "      <th>2017-11-11</th>\n",
       "      <td>1.005980</td>\n",
       "      <td>1.026210</td>\n",
       "      <td>0.995799</td>\n",
       "      <td>1.008990</td>\n",
       "    </tr>\n",
       "    <tr>\n",
       "      <th>2017-11-12</th>\n",
       "      <td>1.006020</td>\n",
       "      <td>1.105910</td>\n",
       "      <td>0.967601</td>\n",
       "      <td>1.012470</td>\n",
       "    </tr>\n",
       "    <tr>\n",
       "      <th>2017-11-13</th>\n",
       "      <td>1.004480</td>\n",
       "      <td>1.029290</td>\n",
       "      <td>0.975103</td>\n",
       "      <td>1.009350</td>\n",
       "    </tr>\n",
       "    <tr>\n",
       "      <th>...</th>\n",
       "      <td>...</td>\n",
       "      <td>...</td>\n",
       "      <td>...</td>\n",
       "      <td>...</td>\n",
       "    </tr>\n",
       "    <tr>\n",
       "      <th>2022-08-29</th>\n",
       "      <td>1.000051</td>\n",
       "      <td>1.000091</td>\n",
       "      <td>0.999968</td>\n",
       "      <td>1.000032</td>\n",
       "    </tr>\n",
       "    <tr>\n",
       "      <th>2022-08-30</th>\n",
       "      <td>1.000039</td>\n",
       "      <td>1.000234</td>\n",
       "      <td>0.999977</td>\n",
       "      <td>1.000081</td>\n",
       "    </tr>\n",
       "    <tr>\n",
       "      <th>2022-08-31</th>\n",
       "      <td>1.000090</td>\n",
       "      <td>1.000163</td>\n",
       "      <td>0.999974</td>\n",
       "      <td>1.000016</td>\n",
       "    </tr>\n",
       "    <tr>\n",
       "      <th>2022-09-01</th>\n",
       "      <td>1.000014</td>\n",
       "      <td>1.000117</td>\n",
       "      <td>0.999968</td>\n",
       "      <td>1.000010</td>\n",
       "    </tr>\n",
       "    <tr>\n",
       "      <th>2022-09-02</th>\n",
       "      <td>1.000016</td>\n",
       "      <td>1.000110</td>\n",
       "      <td>0.999951</td>\n",
       "      <td>1.000077</td>\n",
       "    </tr>\n",
       "  </tbody>\n",
       "</table>\n",
       "<p>1759 rows × 4 columns</p>\n",
       "</div>"
      ],
      "text/plain": [
       "                Open      High       Low     Close\n",
       "Date                                              \n",
       "2017-11-09  1.010870  1.013270  0.996515  1.008180\n",
       "2017-11-10  1.006500  1.024230  0.995486  1.006010\n",
       "2017-11-11  1.005980  1.026210  0.995799  1.008990\n",
       "2017-11-12  1.006020  1.105910  0.967601  1.012470\n",
       "2017-11-13  1.004480  1.029290  0.975103  1.009350\n",
       "...              ...       ...       ...       ...\n",
       "2022-08-29  1.000051  1.000091  0.999968  1.000032\n",
       "2022-08-30  1.000039  1.000234  0.999977  1.000081\n",
       "2022-08-31  1.000090  1.000163  0.999974  1.000016\n",
       "2022-09-01  1.000014  1.000117  0.999968  1.000010\n",
       "2022-09-02  1.000016  1.000110  0.999951  1.000077\n",
       "\n",
       "[1759 rows x 4 columns]"
      ]
     },
     "execution_count": 91,
     "metadata": {},
     "output_type": "execute_result"
    }
   ],
   "source": [
    "USDT = USDT_USD_df.drop(columns=[\"Dividends\",\"Stock Splits\",\"Volume\"], axis=1)\n",
    "USDT"
   ]
  },
  {
   "cell_type": "code",
   "execution_count": 92,
   "id": "d973e065",
   "metadata": {},
   "outputs": [
    {
     "data": {
      "text/html": [
       "<div>\n",
       "<style scoped>\n",
       "    .dataframe tbody tr th:only-of-type {\n",
       "        vertical-align: middle;\n",
       "    }\n",
       "\n",
       "    .dataframe tbody tr th {\n",
       "        vertical-align: top;\n",
       "    }\n",
       "\n",
       "    .dataframe thead th {\n",
       "        text-align: right;\n",
       "    }\n",
       "</style>\n",
       "<table border=\"1\" class=\"dataframe\">\n",
       "  <thead>\n",
       "    <tr style=\"text-align: right;\">\n",
       "      <th></th>\n",
       "      <th>Open</th>\n",
       "      <th>High</th>\n",
       "      <th>Low</th>\n",
       "      <th>Close</th>\n",
       "      <th>Coin Name</th>\n",
       "    </tr>\n",
       "    <tr>\n",
       "      <th>Date</th>\n",
       "      <th></th>\n",
       "      <th></th>\n",
       "      <th></th>\n",
       "      <th></th>\n",
       "      <th></th>\n",
       "    </tr>\n",
       "  </thead>\n",
       "  <tbody>\n",
       "    <tr>\n",
       "      <th>2017-11-09</th>\n",
       "      <td>1.010870</td>\n",
       "      <td>1.013270</td>\n",
       "      <td>0.996515</td>\n",
       "      <td>1.008180</td>\n",
       "      <td>USDT</td>\n",
       "    </tr>\n",
       "    <tr>\n",
       "      <th>2017-11-10</th>\n",
       "      <td>1.006500</td>\n",
       "      <td>1.024230</td>\n",
       "      <td>0.995486</td>\n",
       "      <td>1.006010</td>\n",
       "      <td>USDT</td>\n",
       "    </tr>\n",
       "    <tr>\n",
       "      <th>2017-11-11</th>\n",
       "      <td>1.005980</td>\n",
       "      <td>1.026210</td>\n",
       "      <td>0.995799</td>\n",
       "      <td>1.008990</td>\n",
       "      <td>USDT</td>\n",
       "    </tr>\n",
       "    <tr>\n",
       "      <th>2017-11-12</th>\n",
       "      <td>1.006020</td>\n",
       "      <td>1.105910</td>\n",
       "      <td>0.967601</td>\n",
       "      <td>1.012470</td>\n",
       "      <td>USDT</td>\n",
       "    </tr>\n",
       "    <tr>\n",
       "      <th>2017-11-13</th>\n",
       "      <td>1.004480</td>\n",
       "      <td>1.029290</td>\n",
       "      <td>0.975103</td>\n",
       "      <td>1.009350</td>\n",
       "      <td>USDT</td>\n",
       "    </tr>\n",
       "    <tr>\n",
       "      <th>...</th>\n",
       "      <td>...</td>\n",
       "      <td>...</td>\n",
       "      <td>...</td>\n",
       "      <td>...</td>\n",
       "      <td>...</td>\n",
       "    </tr>\n",
       "    <tr>\n",
       "      <th>2022-08-29</th>\n",
       "      <td>1.000051</td>\n",
       "      <td>1.000091</td>\n",
       "      <td>0.999968</td>\n",
       "      <td>1.000032</td>\n",
       "      <td>USDT</td>\n",
       "    </tr>\n",
       "    <tr>\n",
       "      <th>2022-08-30</th>\n",
       "      <td>1.000039</td>\n",
       "      <td>1.000234</td>\n",
       "      <td>0.999977</td>\n",
       "      <td>1.000081</td>\n",
       "      <td>USDT</td>\n",
       "    </tr>\n",
       "    <tr>\n",
       "      <th>2022-08-31</th>\n",
       "      <td>1.000090</td>\n",
       "      <td>1.000163</td>\n",
       "      <td>0.999974</td>\n",
       "      <td>1.000016</td>\n",
       "      <td>USDT</td>\n",
       "    </tr>\n",
       "    <tr>\n",
       "      <th>2022-09-01</th>\n",
       "      <td>1.000014</td>\n",
       "      <td>1.000117</td>\n",
       "      <td>0.999968</td>\n",
       "      <td>1.000010</td>\n",
       "      <td>USDT</td>\n",
       "    </tr>\n",
       "    <tr>\n",
       "      <th>2022-09-02</th>\n",
       "      <td>1.000016</td>\n",
       "      <td>1.000110</td>\n",
       "      <td>0.999951</td>\n",
       "      <td>1.000077</td>\n",
       "      <td>USDT</td>\n",
       "    </tr>\n",
       "  </tbody>\n",
       "</table>\n",
       "<p>1759 rows × 5 columns</p>\n",
       "</div>"
      ],
      "text/plain": [
       "                Open      High       Low     Close Coin Name\n",
       "Date                                                        \n",
       "2017-11-09  1.010870  1.013270  0.996515  1.008180      USDT\n",
       "2017-11-10  1.006500  1.024230  0.995486  1.006010      USDT\n",
       "2017-11-11  1.005980  1.026210  0.995799  1.008990      USDT\n",
       "2017-11-12  1.006020  1.105910  0.967601  1.012470      USDT\n",
       "2017-11-13  1.004480  1.029290  0.975103  1.009350      USDT\n",
       "...              ...       ...       ...       ...       ...\n",
       "2022-08-29  1.000051  1.000091  0.999968  1.000032      USDT\n",
       "2022-08-30  1.000039  1.000234  0.999977  1.000081      USDT\n",
       "2022-08-31  1.000090  1.000163  0.999974  1.000016      USDT\n",
       "2022-09-01  1.000014  1.000117  0.999968  1.000010      USDT\n",
       "2022-09-02  1.000016  1.000110  0.999951  1.000077      USDT\n",
       "\n",
       "[1759 rows x 5 columns]"
      ]
     },
     "execution_count": 92,
     "metadata": {},
     "output_type": "execute_result"
    }
   ],
   "source": [
    "USDTtest=USDT.copy()\n",
    "USDTtest[\"Coin Name\"]=\"USDT\"\n",
    "USDTtest"
   ]
  },
  {
   "cell_type": "code",
   "execution_count": 93,
   "id": "33db578f",
   "metadata": {},
   "outputs": [
    {
     "data": {
      "text/html": [
       "<div>\n",
       "<style scoped>\n",
       "    .dataframe tbody tr th:only-of-type {\n",
       "        vertical-align: middle;\n",
       "    }\n",
       "\n",
       "    .dataframe tbody tr th {\n",
       "        vertical-align: top;\n",
       "    }\n",
       "\n",
       "    .dataframe thead th {\n",
       "        text-align: right;\n",
       "    }\n",
       "</style>\n",
       "<table border=\"1\" class=\"dataframe\">\n",
       "  <thead>\n",
       "    <tr style=\"text-align: right;\">\n",
       "      <th></th>\n",
       "      <th>Open</th>\n",
       "      <th>High</th>\n",
       "      <th>Low</th>\n",
       "      <th>Close</th>\n",
       "    </tr>\n",
       "    <tr>\n",
       "      <th>Date</th>\n",
       "      <th></th>\n",
       "      <th></th>\n",
       "      <th></th>\n",
       "      <th></th>\n",
       "    </tr>\n",
       "  </thead>\n",
       "  <tbody>\n",
       "    <tr>\n",
       "      <th>2017-11-09</th>\n",
       "      <td>308.644989</td>\n",
       "      <td>329.451996</td>\n",
       "      <td>307.056000</td>\n",
       "      <td>320.884003</td>\n",
       "    </tr>\n",
       "    <tr>\n",
       "      <th>2017-11-10</th>\n",
       "      <td>320.670990</td>\n",
       "      <td>324.717987</td>\n",
       "      <td>294.541992</td>\n",
       "      <td>299.252991</td>\n",
       "    </tr>\n",
       "    <tr>\n",
       "      <th>2017-11-11</th>\n",
       "      <td>298.585999</td>\n",
       "      <td>319.453003</td>\n",
       "      <td>298.191986</td>\n",
       "      <td>314.681000</td>\n",
       "    </tr>\n",
       "    <tr>\n",
       "      <th>2017-11-12</th>\n",
       "      <td>314.690002</td>\n",
       "      <td>319.153015</td>\n",
       "      <td>298.513000</td>\n",
       "      <td>307.907990</td>\n",
       "    </tr>\n",
       "    <tr>\n",
       "      <th>2017-11-13</th>\n",
       "      <td>307.024994</td>\n",
       "      <td>328.415009</td>\n",
       "      <td>307.024994</td>\n",
       "      <td>316.716003</td>\n",
       "    </tr>\n",
       "    <tr>\n",
       "      <th>...</th>\n",
       "      <td>...</td>\n",
       "      <td>...</td>\n",
       "      <td>...</td>\n",
       "      <td>...</td>\n",
       "    </tr>\n",
       "    <tr>\n",
       "      <th>2022-08-29</th>\n",
       "      <td>1430.439453</td>\n",
       "      <td>1556.309570</td>\n",
       "      <td>1427.728394</td>\n",
       "      <td>1553.037354</td>\n",
       "    </tr>\n",
       "    <tr>\n",
       "      <th>2022-08-30</th>\n",
       "      <td>1553.188965</td>\n",
       "      <td>1600.461182</td>\n",
       "      <td>1480.831787</td>\n",
       "      <td>1523.838867</td>\n",
       "    </tr>\n",
       "    <tr>\n",
       "      <th>2022-08-31</th>\n",
       "      <td>1524.286499</td>\n",
       "      <td>1612.358887</td>\n",
       "      <td>1524.286499</td>\n",
       "      <td>1553.684937</td>\n",
       "    </tr>\n",
       "    <tr>\n",
       "      <th>2022-09-01</th>\n",
       "      <td>1553.756348</td>\n",
       "      <td>1593.082764</td>\n",
       "      <td>1520.188354</td>\n",
       "      <td>1586.176758</td>\n",
       "    </tr>\n",
       "    <tr>\n",
       "      <th>2022-09-02</th>\n",
       "      <td>1583.881592</td>\n",
       "      <td>1642.972534</td>\n",
       "      <td>1571.791260</td>\n",
       "      <td>1607.967407</td>\n",
       "    </tr>\n",
       "  </tbody>\n",
       "</table>\n",
       "<p>1759 rows × 4 columns</p>\n",
       "</div>"
      ],
      "text/plain": [
       "                   Open         High          Low        Close\n",
       "Date                                                          \n",
       "2017-11-09   308.644989   329.451996   307.056000   320.884003\n",
       "2017-11-10   320.670990   324.717987   294.541992   299.252991\n",
       "2017-11-11   298.585999   319.453003   298.191986   314.681000\n",
       "2017-11-12   314.690002   319.153015   298.513000   307.907990\n",
       "2017-11-13   307.024994   328.415009   307.024994   316.716003\n",
       "...                 ...          ...          ...          ...\n",
       "2022-08-29  1430.439453  1556.309570  1427.728394  1553.037354\n",
       "2022-08-30  1553.188965  1600.461182  1480.831787  1523.838867\n",
       "2022-08-31  1524.286499  1612.358887  1524.286499  1553.684937\n",
       "2022-09-01  1553.756348  1593.082764  1520.188354  1586.176758\n",
       "2022-09-02  1583.881592  1642.972534  1571.791260  1607.967407\n",
       "\n",
       "[1759 rows x 4 columns]"
      ]
     },
     "execution_count": 93,
     "metadata": {},
     "output_type": "execute_result"
    }
   ],
   "source": [
    "ETH= ETH_USD_df.drop(columns=[\"Dividends\",\"Stock Splits\",\"Volume\"], axis=1)\n",
    "ETH"
   ]
  },
  {
   "cell_type": "code",
   "execution_count": 94,
   "id": "93fc57e6",
   "metadata": {},
   "outputs": [
    {
     "data": {
      "text/html": [
       "<div>\n",
       "<style scoped>\n",
       "    .dataframe tbody tr th:only-of-type {\n",
       "        vertical-align: middle;\n",
       "    }\n",
       "\n",
       "    .dataframe tbody tr th {\n",
       "        vertical-align: top;\n",
       "    }\n",
       "\n",
       "    .dataframe thead th {\n",
       "        text-align: right;\n",
       "    }\n",
       "</style>\n",
       "<table border=\"1\" class=\"dataframe\">\n",
       "  <thead>\n",
       "    <tr style=\"text-align: right;\">\n",
       "      <th></th>\n",
       "      <th>Open</th>\n",
       "      <th>High</th>\n",
       "      <th>Low</th>\n",
       "      <th>Close</th>\n",
       "      <th>Coin Name</th>\n",
       "    </tr>\n",
       "    <tr>\n",
       "      <th>Date</th>\n",
       "      <th></th>\n",
       "      <th></th>\n",
       "      <th></th>\n",
       "      <th></th>\n",
       "      <th></th>\n",
       "    </tr>\n",
       "  </thead>\n",
       "  <tbody>\n",
       "    <tr>\n",
       "      <th>2017-11-09</th>\n",
       "      <td>308.644989</td>\n",
       "      <td>329.451996</td>\n",
       "      <td>307.056000</td>\n",
       "      <td>320.884003</td>\n",
       "      <td>ETH</td>\n",
       "    </tr>\n",
       "    <tr>\n",
       "      <th>2017-11-10</th>\n",
       "      <td>320.670990</td>\n",
       "      <td>324.717987</td>\n",
       "      <td>294.541992</td>\n",
       "      <td>299.252991</td>\n",
       "      <td>ETH</td>\n",
       "    </tr>\n",
       "    <tr>\n",
       "      <th>2017-11-11</th>\n",
       "      <td>298.585999</td>\n",
       "      <td>319.453003</td>\n",
       "      <td>298.191986</td>\n",
       "      <td>314.681000</td>\n",
       "      <td>ETH</td>\n",
       "    </tr>\n",
       "    <tr>\n",
       "      <th>2017-11-12</th>\n",
       "      <td>314.690002</td>\n",
       "      <td>319.153015</td>\n",
       "      <td>298.513000</td>\n",
       "      <td>307.907990</td>\n",
       "      <td>ETH</td>\n",
       "    </tr>\n",
       "    <tr>\n",
       "      <th>2017-11-13</th>\n",
       "      <td>307.024994</td>\n",
       "      <td>328.415009</td>\n",
       "      <td>307.024994</td>\n",
       "      <td>316.716003</td>\n",
       "      <td>ETH</td>\n",
       "    </tr>\n",
       "    <tr>\n",
       "      <th>...</th>\n",
       "      <td>...</td>\n",
       "      <td>...</td>\n",
       "      <td>...</td>\n",
       "      <td>...</td>\n",
       "      <td>...</td>\n",
       "    </tr>\n",
       "    <tr>\n",
       "      <th>2022-08-29</th>\n",
       "      <td>1430.439453</td>\n",
       "      <td>1556.309570</td>\n",
       "      <td>1427.728394</td>\n",
       "      <td>1553.037354</td>\n",
       "      <td>ETH</td>\n",
       "    </tr>\n",
       "    <tr>\n",
       "      <th>2022-08-30</th>\n",
       "      <td>1553.188965</td>\n",
       "      <td>1600.461182</td>\n",
       "      <td>1480.831787</td>\n",
       "      <td>1523.838867</td>\n",
       "      <td>ETH</td>\n",
       "    </tr>\n",
       "    <tr>\n",
       "      <th>2022-08-31</th>\n",
       "      <td>1524.286499</td>\n",
       "      <td>1612.358887</td>\n",
       "      <td>1524.286499</td>\n",
       "      <td>1553.684937</td>\n",
       "      <td>ETH</td>\n",
       "    </tr>\n",
       "    <tr>\n",
       "      <th>2022-09-01</th>\n",
       "      <td>1553.756348</td>\n",
       "      <td>1593.082764</td>\n",
       "      <td>1520.188354</td>\n",
       "      <td>1586.176758</td>\n",
       "      <td>ETH</td>\n",
       "    </tr>\n",
       "    <tr>\n",
       "      <th>2022-09-02</th>\n",
       "      <td>1583.881592</td>\n",
       "      <td>1642.972534</td>\n",
       "      <td>1571.791260</td>\n",
       "      <td>1607.967407</td>\n",
       "      <td>ETH</td>\n",
       "    </tr>\n",
       "  </tbody>\n",
       "</table>\n",
       "<p>1759 rows × 5 columns</p>\n",
       "</div>"
      ],
      "text/plain": [
       "                   Open         High          Low        Close Coin Name\n",
       "Date                                                                    \n",
       "2017-11-09   308.644989   329.451996   307.056000   320.884003       ETH\n",
       "2017-11-10   320.670990   324.717987   294.541992   299.252991       ETH\n",
       "2017-11-11   298.585999   319.453003   298.191986   314.681000       ETH\n",
       "2017-11-12   314.690002   319.153015   298.513000   307.907990       ETH\n",
       "2017-11-13   307.024994   328.415009   307.024994   316.716003       ETH\n",
       "...                 ...          ...          ...          ...       ...\n",
       "2022-08-29  1430.439453  1556.309570  1427.728394  1553.037354       ETH\n",
       "2022-08-30  1553.188965  1600.461182  1480.831787  1523.838867       ETH\n",
       "2022-08-31  1524.286499  1612.358887  1524.286499  1553.684937       ETH\n",
       "2022-09-01  1553.756348  1593.082764  1520.188354  1586.176758       ETH\n",
       "2022-09-02  1583.881592  1642.972534  1571.791260  1607.967407       ETH\n",
       "\n",
       "[1759 rows x 5 columns]"
      ]
     },
     "execution_count": 94,
     "metadata": {},
     "output_type": "execute_result"
    }
   ],
   "source": [
    "ETHtest=ETH.copy()\n",
    "ETHtest[\"Coin Name\"]=\"ETH\"\n",
    "ETHtest"
   ]
  },
  {
   "cell_type": "code",
   "execution_count": 95,
   "id": "cd034783",
   "metadata": {},
   "outputs": [
    {
     "data": {
      "text/html": [
       "<div>\n",
       "<style scoped>\n",
       "    .dataframe tbody tr th:only-of-type {\n",
       "        vertical-align: middle;\n",
       "    }\n",
       "\n",
       "    .dataframe tbody tr th {\n",
       "        vertical-align: top;\n",
       "    }\n",
       "\n",
       "    .dataframe thead th {\n",
       "        text-align: right;\n",
       "    }\n",
       "</style>\n",
       "<table border=\"1\" class=\"dataframe\">\n",
       "  <thead>\n",
       "    <tr style=\"text-align: right;\">\n",
       "      <th></th>\n",
       "      <th>Open</th>\n",
       "      <th>High</th>\n",
       "      <th>Low</th>\n",
       "      <th>Close</th>\n",
       "      <th>Coin Name</th>\n",
       "    </tr>\n",
       "    <tr>\n",
       "      <th>Date</th>\n",
       "      <th></th>\n",
       "      <th></th>\n",
       "      <th></th>\n",
       "      <th></th>\n",
       "      <th></th>\n",
       "    </tr>\n",
       "  </thead>\n",
       "  <tbody>\n",
       "    <tr>\n",
       "      <th>2017-11-09</th>\n",
       "      <td>0.001207</td>\n",
       "      <td>0.001415</td>\n",
       "      <td>0.001181</td>\n",
       "      <td>0.001415</td>\n",
       "      <td>DOGE</td>\n",
       "    </tr>\n",
       "    <tr>\n",
       "      <th>2017-11-10</th>\n",
       "      <td>0.001421</td>\n",
       "      <td>0.001431</td>\n",
       "      <td>0.001125</td>\n",
       "      <td>0.001163</td>\n",
       "      <td>DOGE</td>\n",
       "    </tr>\n",
       "    <tr>\n",
       "      <th>2017-11-11</th>\n",
       "      <td>0.001146</td>\n",
       "      <td>0.001257</td>\n",
       "      <td>0.001141</td>\n",
       "      <td>0.001201</td>\n",
       "      <td>DOGE</td>\n",
       "    </tr>\n",
       "    <tr>\n",
       "      <th>2017-11-12</th>\n",
       "      <td>0.001189</td>\n",
       "      <td>0.001210</td>\n",
       "      <td>0.001002</td>\n",
       "      <td>0.001038</td>\n",
       "      <td>DOGE</td>\n",
       "    </tr>\n",
       "    <tr>\n",
       "      <th>2017-11-13</th>\n",
       "      <td>0.001046</td>\n",
       "      <td>0.001212</td>\n",
       "      <td>0.001019</td>\n",
       "      <td>0.001211</td>\n",
       "      <td>DOGE</td>\n",
       "    </tr>\n",
       "    <tr>\n",
       "      <th>...</th>\n",
       "      <td>...</td>\n",
       "      <td>...</td>\n",
       "      <td>...</td>\n",
       "      <td>...</td>\n",
       "      <td>...</td>\n",
       "    </tr>\n",
       "    <tr>\n",
       "      <th>2022-08-29</th>\n",
       "      <td>1430.439453</td>\n",
       "      <td>1556.309570</td>\n",
       "      <td>1427.728394</td>\n",
       "      <td>1553.037354</td>\n",
       "      <td>ETH</td>\n",
       "    </tr>\n",
       "    <tr>\n",
       "      <th>2022-08-30</th>\n",
       "      <td>1553.188965</td>\n",
       "      <td>1600.461182</td>\n",
       "      <td>1480.831787</td>\n",
       "      <td>1523.838867</td>\n",
       "      <td>ETH</td>\n",
       "    </tr>\n",
       "    <tr>\n",
       "      <th>2022-08-31</th>\n",
       "      <td>1524.286499</td>\n",
       "      <td>1612.358887</td>\n",
       "      <td>1524.286499</td>\n",
       "      <td>1553.684937</td>\n",
       "      <td>ETH</td>\n",
       "    </tr>\n",
       "    <tr>\n",
       "      <th>2022-09-01</th>\n",
       "      <td>1553.756348</td>\n",
       "      <td>1593.082764</td>\n",
       "      <td>1520.188354</td>\n",
       "      <td>1586.176758</td>\n",
       "      <td>ETH</td>\n",
       "    </tr>\n",
       "    <tr>\n",
       "      <th>2022-09-02</th>\n",
       "      <td>1583.881592</td>\n",
       "      <td>1642.972534</td>\n",
       "      <td>1571.791260</td>\n",
       "      <td>1607.967407</td>\n",
       "      <td>ETH</td>\n",
       "    </tr>\n",
       "  </tbody>\n",
       "</table>\n",
       "<p>8863 rows × 5 columns</p>\n",
       "</div>"
      ],
      "text/plain": [
       "                   Open         High          Low        Close Coin Name\n",
       "Date                                                                    \n",
       "2017-11-09     0.001207     0.001415     0.001181     0.001415      DOGE\n",
       "2017-11-10     0.001421     0.001431     0.001125     0.001163      DOGE\n",
       "2017-11-11     0.001146     0.001257     0.001141     0.001201      DOGE\n",
       "2017-11-12     0.001189     0.001210     0.001002     0.001038      DOGE\n",
       "2017-11-13     0.001046     0.001212     0.001019     0.001211      DOGE\n",
       "...                 ...          ...          ...          ...       ...\n",
       "2022-08-29  1430.439453  1556.309570  1427.728394  1553.037354       ETH\n",
       "2022-08-30  1553.188965  1600.461182  1480.831787  1523.838867       ETH\n",
       "2022-08-31  1524.286499  1612.358887  1524.286499  1553.684937       ETH\n",
       "2022-09-01  1553.756348  1593.082764  1520.188354  1586.176758       ETH\n",
       "2022-09-02  1583.881592  1642.972534  1571.791260  1607.967407       ETH\n",
       "\n",
       "[8863 rows x 5 columns]"
      ]
     },
     "execution_count": 95,
     "metadata": {},
     "output_type": "execute_result"
    }
   ],
   "source": [
    "bothtest=pd.concat([dogetest,BTCtest,XRPtest,USDTtest,ETHtest],axis=0)\n",
    "bothtest"
   ]
  },
  {
   "cell_type": "code",
   "execution_count": 96,
   "id": "a75ee7a2",
   "metadata": {},
   "outputs": [
    {
     "name": "stdout",
     "output_type": "stream",
     "text": [
      "<class 'pandas.core.frame.DataFrame'>\n",
      "DatetimeIndex: 8863 entries, 2017-11-09 to 2022-09-02\n",
      "Data columns (total 5 columns):\n",
      " #   Column     Non-Null Count  Dtype  \n",
      "---  ------     --------------  -----  \n",
      " 0   Open       8863 non-null   float64\n",
      " 1   High       8863 non-null   float64\n",
      " 2   Low        8863 non-null   float64\n",
      " 3   Close      8863 non-null   float64\n",
      " 4   Coin Name  8863 non-null   object \n",
      "dtypes: float64(4), object(1)\n",
      "memory usage: 415.5+ KB\n"
     ]
    }
   ],
   "source": [
    "bothtest.info()"
   ]
  },
  {
   "cell_type": "code",
   "execution_count": 97,
   "id": "055a2653",
   "metadata": {},
   "outputs": [
    {
     "data": {
      "text/plain": [
       "(0.0, 4.0)"
      ]
     },
     "execution_count": 97,
     "metadata": {},
     "output_type": "execute_result"
    },
    {
     "data": {
      "image/png": "[encoded data removed]",
      "text/plain": [
       "<Figure size 432x288 with 1 Axes>"
      ]
     },
     "metadata": {
      "needs_background": "light"
     },
     "output_type": "display_data"
    }
   ],
   "source": [
    "bothtest.groupby(\"Coin Name\")[\"Close\"].plot()\n",
    "plt.legend()\n",
    "plt.ylim(top=4,bottom=0)"
   ]
  },
  {
   "cell_type": "code",
   "execution_count": 98,
   "id": "c762a8e6",
   "metadata": {},
   "outputs": [
    {
     "data": {
      "text/plain": [
       "<matplotlib.legend.Legend at 0x1eafa474488>"
      ]
     },
     "execution_count": 98,
     "metadata": {},
     "output_type": "execute_result"
    },
    {
     "data": {
      "image/png": "[encoded data removed]",
      "text/plain": [
       "<Figure size 432x288 with 1 Axes>"
      ]
     },
     "metadata": {
      "needs_background": "light"
     },
     "output_type": "display_data"
    }
   ],
   "source": [
    "bothtest.groupby(\"Coin Name\")[\"Close\"].plot()\n",
    "plt.legend()\n",
    "# plt.ylim(top=4,bottom=0)"
   ]
  },
  {
   "cell_type": "code",
   "execution_count": 99,
   "id": "96eb3bdb",
   "metadata": {},
   "outputs": [
    {
     "data": {
      "text/html": [
       "<div>\n",
       "<style scoped>\n",
       "    .dataframe tbody tr th:only-of-type {\n",
       "        vertical-align: middle;\n",
       "    }\n",
       "\n",
       "    .dataframe tbody tr th {\n",
       "        vertical-align: top;\n",
       "    }\n",
       "\n",
       "    .dataframe thead th {\n",
       "        text-align: right;\n",
       "    }\n",
       "</style>\n",
       "<table border=\"1\" class=\"dataframe\">\n",
       "  <thead>\n",
       "    <tr style=\"text-align: right;\">\n",
       "      <th></th>\n",
       "      <th>Open</th>\n",
       "      <th>High</th>\n",
       "      <th>Low</th>\n",
       "      <th>Close</th>\n",
       "      <th>Coin Name</th>\n",
       "      <th>Year</th>\n",
       "      <th>Month</th>\n",
       "    </tr>\n",
       "    <tr>\n",
       "      <th>Date</th>\n",
       "      <th></th>\n",
       "      <th></th>\n",
       "      <th></th>\n",
       "      <th></th>\n",
       "      <th></th>\n",
       "      <th></th>\n",
       "      <th></th>\n",
       "    </tr>\n",
       "  </thead>\n",
       "  <tbody>\n",
       "    <tr>\n",
       "      <th>2017-11-09</th>\n",
       "      <td>0.001207</td>\n",
       "      <td>0.001415</td>\n",
       "      <td>0.001181</td>\n",
       "      <td>0.001415</td>\n",
       "      <td>DOGE</td>\n",
       "      <td>2017</td>\n",
       "      <td>11</td>\n",
       "    </tr>\n",
       "    <tr>\n",
       "      <th>2017-11-10</th>\n",
       "      <td>0.001421</td>\n",
       "      <td>0.001431</td>\n",
       "      <td>0.001125</td>\n",
       "      <td>0.001163</td>\n",
       "      <td>DOGE</td>\n",
       "      <td>2017</td>\n",
       "      <td>11</td>\n",
       "    </tr>\n",
       "    <tr>\n",
       "      <th>2017-11-11</th>\n",
       "      <td>0.001146</td>\n",
       "      <td>0.001257</td>\n",
       "      <td>0.001141</td>\n",
       "      <td>0.001201</td>\n",
       "      <td>DOGE</td>\n",
       "      <td>2017</td>\n",
       "      <td>11</td>\n",
       "    </tr>\n",
       "    <tr>\n",
       "      <th>2017-11-12</th>\n",
       "      <td>0.001189</td>\n",
       "      <td>0.001210</td>\n",
       "      <td>0.001002</td>\n",
       "      <td>0.001038</td>\n",
       "      <td>DOGE</td>\n",
       "      <td>2017</td>\n",
       "      <td>11</td>\n",
       "    </tr>\n",
       "    <tr>\n",
       "      <th>2017-11-13</th>\n",
       "      <td>0.001046</td>\n",
       "      <td>0.001212</td>\n",
       "      <td>0.001019</td>\n",
       "      <td>0.001211</td>\n",
       "      <td>DOGE</td>\n",
       "      <td>2017</td>\n",
       "      <td>11</td>\n",
       "    </tr>\n",
       "    <tr>\n",
       "      <th>...</th>\n",
       "      <td>...</td>\n",
       "      <td>...</td>\n",
       "      <td>...</td>\n",
       "      <td>...</td>\n",
       "      <td>...</td>\n",
       "      <td>...</td>\n",
       "      <td>...</td>\n",
       "    </tr>\n",
       "    <tr>\n",
       "      <th>2022-08-29</th>\n",
       "      <td>1430.439453</td>\n",
       "      <td>1556.309570</td>\n",
       "      <td>1427.728394</td>\n",
       "      <td>1553.037354</td>\n",
       "      <td>ETH</td>\n",
       "      <td>2022</td>\n",
       "      <td>8</td>\n",
       "    </tr>\n",
       "    <tr>\n",
       "      <th>2022-08-30</th>\n",
       "      <td>1553.188965</td>\n",
       "      <td>1600.461182</td>\n",
       "      <td>1480.831787</td>\n",
       "      <td>1523.838867</td>\n",
       "      <td>ETH</td>\n",
       "      <td>2022</td>\n",
       "      <td>8</td>\n",
       "    </tr>\n",
       "    <tr>\n",
       "      <th>2022-08-31</th>\n",
       "      <td>1524.286499</td>\n",
       "      <td>1612.358887</td>\n",
       "      <td>1524.286499</td>\n",
       "      <td>1553.684937</td>\n",
       "      <td>ETH</td>\n",
       "      <td>2022</td>\n",
       "      <td>8</td>\n",
       "    </tr>\n",
       "    <tr>\n",
       "      <th>2022-09-01</th>\n",
       "      <td>1553.756348</td>\n",
       "      <td>1593.082764</td>\n",
       "      <td>1520.188354</td>\n",
       "      <td>1586.176758</td>\n",
       "      <td>ETH</td>\n",
       "      <td>2022</td>\n",
       "      <td>9</td>\n",
       "    </tr>\n",
       "    <tr>\n",
       "      <th>2022-09-02</th>\n",
       "      <td>1583.881592</td>\n",
       "      <td>1642.972534</td>\n",
       "      <td>1571.791260</td>\n",
       "      <td>1607.967407</td>\n",
       "      <td>ETH</td>\n",
       "      <td>2022</td>\n",
       "      <td>9</td>\n",
       "    </tr>\n",
       "  </tbody>\n",
       "</table>\n",
       "<p>8863 rows × 7 columns</p>\n",
       "</div>"
      ],
      "text/plain": [
       "                   Open         High          Low        Close Coin Name  \\\n",
       "Date                                                                       \n",
       "2017-11-09     0.001207     0.001415     0.001181     0.001415      DOGE   \n",
       "2017-11-10     0.001421     0.001431     0.001125     0.001163      DOGE   \n",
       "2017-11-11     0.001146     0.001257     0.001141     0.001201      DOGE   \n",
       "2017-11-12     0.001189     0.001210     0.001002     0.001038      DOGE   \n",
       "2017-11-13     0.001046     0.001212     0.001019     0.001211      DOGE   \n",
       "...                 ...          ...          ...          ...       ...   \n",
       "2022-08-29  1430.439453  1556.309570  1427.728394  1553.037354       ETH   \n",
       "2022-08-30  1553.188965  1600.461182  1480.831787  1523.838867       ETH   \n",
       "2022-08-31  1524.286499  1612.358887  1524.286499  1553.684937       ETH   \n",
       "2022-09-01  1553.756348  1593.082764  1520.188354  1586.176758       ETH   \n",
       "2022-09-02  1583.881592  1642.972534  1571.791260  1607.967407       ETH   \n",
       "\n",
       "            Year  Month  \n",
       "Date                     \n",
       "2017-11-09  2017     11  \n",
       "2017-11-10  2017     11  \n",
       "2017-11-11  2017     11  \n",
       "2017-11-12  2017     11  \n",
       "2017-11-13  2017     11  \n",
       "...          ...    ...  \n",
       "2022-08-29  2022      8  \n",
       "2022-08-30  2022      8  \n",
       "2022-08-31  2022      8  \n",
       "2022-09-01  2022      9  \n",
       "2022-09-02  2022      9  \n",
       "\n",
       "[8863 rows x 7 columns]"
      ]
     },
     "execution_count": 99,
     "metadata": {},
     "output_type": "execute_result"
    }
   ],
   "source": [
    "bothtest[\"Year\"] = bothtest.index.map(lambda x: x.year)\n",
    "bothtest[\"Month\"] = bothtest.index.map(lambda x: x.month)\n",
    "bothtest"
   ]
  },
  {
   "cell_type": "code",
   "execution_count": 100,
   "id": "b4bea788",
   "metadata": {},
   "outputs": [
    {
     "data": {
      "text/html": [
       "<div>\n",
       "<style scoped>\n",
       "    .dataframe tbody tr th:only-of-type {\n",
       "        vertical-align: middle;\n",
       "    }\n",
       "\n",
       "    .dataframe tbody tr th {\n",
       "        vertical-align: top;\n",
       "    }\n",
       "\n",
       "    .dataframe thead th {\n",
       "        text-align: right;\n",
       "    }\n",
       "</style>\n",
       "<table border=\"1\" class=\"dataframe\">\n",
       "  <thead>\n",
       "    <tr style=\"text-align: right;\">\n",
       "      <th></th>\n",
       "      <th>Open</th>\n",
       "      <th>High</th>\n",
       "      <th>Low</th>\n",
       "      <th>Close</th>\n",
       "      <th>Year</th>\n",
       "      <th>Month</th>\n",
       "      <th>Coin Name_BTC</th>\n",
       "      <th>Coin Name_DOGE</th>\n",
       "      <th>Coin Name_ETH</th>\n",
       "      <th>Coin Name_USDT</th>\n",
       "      <th>Coin Name_XRP</th>\n",
       "    </tr>\n",
       "    <tr>\n",
       "      <th>Date</th>\n",
       "      <th></th>\n",
       "      <th></th>\n",
       "      <th></th>\n",
       "      <th></th>\n",
       "      <th></th>\n",
       "      <th></th>\n",
       "      <th></th>\n",
       "      <th></th>\n",
       "      <th></th>\n",
       "      <th></th>\n",
       "      <th></th>\n",
       "    </tr>\n",
       "  </thead>\n",
       "  <tbody>\n",
       "    <tr>\n",
       "      <th>2017-11-09</th>\n",
       "      <td>0.001207</td>\n",
       "      <td>0.001415</td>\n",
       "      <td>0.001181</td>\n",
       "      <td>0.001415</td>\n",
       "      <td>2017</td>\n",
       "      <td>11</td>\n",
       "      <td>0</td>\n",
       "      <td>1</td>\n",
       "      <td>0</td>\n",
       "      <td>0</td>\n",
       "      <td>0</td>\n",
       "    </tr>\n",
       "    <tr>\n",
       "      <th>2017-11-10</th>\n",
       "      <td>0.001421</td>\n",
       "      <td>0.001431</td>\n",
       "      <td>0.001125</td>\n",
       "      <td>0.001163</td>\n",
       "      <td>2017</td>\n",
       "      <td>11</td>\n",
       "      <td>0</td>\n",
       "      <td>1</td>\n",
       "      <td>0</td>\n",
       "      <td>0</td>\n",
       "      <td>0</td>\n",
       "    </tr>\n",
       "    <tr>\n",
       "      <th>2017-11-11</th>\n",
       "      <td>0.001146</td>\n",
       "      <td>0.001257</td>\n",
       "      <td>0.001141</td>\n",
       "      <td>0.001201</td>\n",
       "      <td>2017</td>\n",
       "      <td>11</td>\n",
       "      <td>0</td>\n",
       "      <td>1</td>\n",
       "      <td>0</td>\n",
       "      <td>0</td>\n",
       "      <td>0</td>\n",
       "    </tr>\n",
       "    <tr>\n",
       "      <th>2017-11-12</th>\n",
       "      <td>0.001189</td>\n",
       "      <td>0.001210</td>\n",
       "      <td>0.001002</td>\n",
       "      <td>0.001038</td>\n",
       "      <td>2017</td>\n",
       "      <td>11</td>\n",
       "      <td>0</td>\n",
       "      <td>1</td>\n",
       "      <td>0</td>\n",
       "      <td>0</td>\n",
       "      <td>0</td>\n",
       "    </tr>\n",
       "    <tr>\n",
       "      <th>2017-11-13</th>\n",
       "      <td>0.001046</td>\n",
       "      <td>0.001212</td>\n",
       "      <td>0.001019</td>\n",
       "      <td>0.001211</td>\n",
       "      <td>2017</td>\n",
       "      <td>11</td>\n",
       "      <td>0</td>\n",
       "      <td>1</td>\n",
       "      <td>0</td>\n",
       "      <td>0</td>\n",
       "      <td>0</td>\n",
       "    </tr>\n",
       "    <tr>\n",
       "      <th>...</th>\n",
       "      <td>...</td>\n",
       "      <td>...</td>\n",
       "      <td>...</td>\n",
       "      <td>...</td>\n",
       "      <td>...</td>\n",
       "      <td>...</td>\n",
       "      <td>...</td>\n",
       "      <td>...</td>\n",
       "      <td>...</td>\n",
       "      <td>...</td>\n",
       "      <td>...</td>\n",
       "    </tr>\n",
       "    <tr>\n",
       "      <th>2022-08-29</th>\n",
       "      <td>1430.439453</td>\n",
       "      <td>1556.309570</td>\n",
       "      <td>1427.728394</td>\n",
       "      <td>1553.037354</td>\n",
       "      <td>2022</td>\n",
       "      <td>8</td>\n",
       "      <td>0</td>\n",
       "      <td>0</td>\n",
       "      <td>1</td>\n",
       "      <td>0</td>\n",
       "      <td>0</td>\n",
       "    </tr>\n",
       "    <tr>\n",
       "      <th>2022-08-30</th>\n",
       "      <td>1553.188965</td>\n",
       "      <td>1600.461182</td>\n",
       "      <td>1480.831787</td>\n",
       "      <td>1523.838867</td>\n",
       "      <td>2022</td>\n",
       "      <td>8</td>\n",
       "      <td>0</td>\n",
       "      <td>0</td>\n",
       "      <td>1</td>\n",
       "      <td>0</td>\n",
       "      <td>0</td>\n",
       "    </tr>\n",
       "    <tr>\n",
       "      <th>2022-08-31</th>\n",
       "      <td>1524.286499</td>\n",
       "      <td>1612.358887</td>\n",
       "      <td>1524.286499</td>\n",
       "      <td>1553.684937</td>\n",
       "      <td>2022</td>\n",
       "      <td>8</td>\n",
       "      <td>0</td>\n",
       "      <td>0</td>\n",
       "      <td>1</td>\n",
       "      <td>0</td>\n",
       "      <td>0</td>\n",
       "    </tr>\n",
       "    <tr>\n",
       "      <th>2022-09-01</th>\n",
       "      <td>1553.756348</td>\n",
       "      <td>1593.082764</td>\n",
       "      <td>1520.188354</td>\n",
       "      <td>1586.176758</td>\n",
       "      <td>2022</td>\n",
       "      <td>9</td>\n",
       "      <td>0</td>\n",
       "      <td>0</td>\n",
       "      <td>1</td>\n",
       "      <td>0</td>\n",
       "      <td>0</td>\n",
       "    </tr>\n",
       "    <tr>\n",
       "      <th>2022-09-02</th>\n",
       "      <td>1583.881592</td>\n",
       "      <td>1642.972534</td>\n",
       "      <td>1571.791260</td>\n",
       "      <td>1607.967407</td>\n",
       "      <td>2022</td>\n",
       "      <td>9</td>\n",
       "      <td>0</td>\n",
       "      <td>0</td>\n",
       "      <td>1</td>\n",
       "      <td>0</td>\n",
       "      <td>0</td>\n",
       "    </tr>\n",
       "  </tbody>\n",
       "</table>\n",
       "<p>8863 rows × 11 columns</p>\n",
       "</div>"
      ],
      "text/plain": [
       "                   Open         High          Low        Close  Year  Month  \\\n",
       "Date                                                                          \n",
       "2017-11-09     0.001207     0.001415     0.001181     0.001415  2017     11   \n",
       "2017-11-10     0.001421     0.001431     0.001125     0.001163  2017     11   \n",
       "2017-11-11     0.001146     0.001257     0.001141     0.001201  2017     11   \n",
       "2017-11-12     0.001189     0.001210     0.001002     0.001038  2017     11   \n",
       "2017-11-13     0.001046     0.001212     0.001019     0.001211  2017     11   \n",
       "...                 ...          ...          ...          ...   ...    ...   \n",
       "2022-08-29  1430.439453  1556.309570  1427.728394  1553.037354  2022      8   \n",
       "2022-08-30  1553.188965  1600.461182  1480.831787  1523.838867  2022      8   \n",
       "2022-08-31  1524.286499  1612.358887  1524.286499  1553.684937  2022      8   \n",
       "2022-09-01  1553.756348  1593.082764  1520.188354  1586.176758  2022      9   \n",
       "2022-09-02  1583.881592  1642.972534  1571.791260  1607.967407  2022      9   \n",
       "\n",
       "            Coin Name_BTC  Coin Name_DOGE  Coin Name_ETH  Coin Name_USDT  \\\n",
       "Date                                                                       \n",
       "2017-11-09              0               1              0               0   \n",
       "2017-11-10              0               1              0               0   \n",
       "2017-11-11              0               1              0               0   \n",
       "2017-11-12              0               1              0               0   \n",
       "2017-11-13              0               1              0               0   \n",
       "...                   ...             ...            ...             ...   \n",
       "2022-08-29              0               0              1               0   \n",
       "2022-08-30              0               0              1               0   \n",
       "2022-08-31              0               0              1               0   \n",
       "2022-09-01              0               0              1               0   \n",
       "2022-09-02              0               0              1               0   \n",
       "\n",
       "            Coin Name_XRP  \n",
       "Date                       \n",
       "2017-11-09              0  \n",
       "2017-11-10              0  \n",
       "2017-11-11              0  \n",
       "2017-11-12              0  \n",
       "2017-11-13              0  \n",
       "...                   ...  \n",
       "2022-08-29              0  \n",
       "2022-08-30              0  \n",
       "2022-08-31              0  \n",
       "2022-09-01              0  \n",
       "2022-09-02              0  \n",
       "\n",
       "[8863 rows x 11 columns]"
      ]
     },
     "execution_count": 100,
     "metadata": {},
     "output_type": "execute_result"
    }
   ],
   "source": [
    "pd.get_dummies(bothtest)"
   ]
  },
  {
   "cell_type": "code",
   "execution_count": 101,
   "id": "bfa0b208",
   "metadata": {},
   "outputs": [],
   "source": [
    "bothtest.to_csv(\"Resources/Cryptocurrencies.csv\")"
   ]
  },
  {
   "cell_type": "code",
   "execution_count": null,
   "id": "dc2d4f37",
   "metadata": {},
   "outputs": [],
   "source": []
  }
 ],
 "metadata": {
  "kernelspec": {
   "display_name": "mlenv",
   "language": "python",
   "name": "mlenv"
  },
  "language_info": {
   "codemirror_mode": {
    "name": "ipython",
    "version": 3
   },
   "file_extension": ".py",
   "mimetype": "text/x-python",
   "name": "python",
   "nbconvert_exporter": "python",
   "pygments_lexer": "ipython3",
   "version": "3.7.13"
  }
 },
 "nbformat": 4,
 "nbformat_minor": 5
}
